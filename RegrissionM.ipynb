{
 "cells": [
  {
   "cell_type": "code",
   "execution_count": 1,
   "metadata": {},
   "outputs": [],
   "source": [
    "import pandas as pd\n",
    "import numpy as np"
   ]
  },
  {
   "cell_type": "code",
   "execution_count": 2,
   "metadata": {},
   "outputs": [
    {
     "name": "stderr",
     "output_type": "stream",
     "text": [
      "C:\\Users\\Lenovo\\AppData\\Local\\Temp\\ipykernel_2008\\2646132604.py:1: DtypeWarning: Columns (11,27,29,53) have mixed types. Specify dtype option on import or set low_memory=False.\n",
      "  divar_df = pd.read_csv('Divar.csv')\n"
     ]
    }
   ],
   "source": [
    "divar_df = pd.read_csv('Divar.csv')"
   ]
  },
  {
   "cell_type": "code",
   "execution_count": 3,
   "metadata": {},
   "outputs": [],
   "source": [
    "divar_df = divar_df.drop(['description', 'title', 'rent_to_single', 'rooms_count', 'has_balcony',], axis=1)\n",
    "\n",
    "\n"
   ]
  },
  {
   "cell_type": "code",
   "execution_count": 3,
   "metadata": {},
   "outputs": [],
   "source": [
    "\n",
    "divar_df = divar_df.drop(['has_barbecue'], axis=1)\n"
   ]
  },
  {
   "cell_type": "code",
   "execution_count": 4,
   "metadata": {},
   "outputs": [],
   "source": [
    "divar_df = divar_df.drop(['has_restroom'], axis=1)"
   ]
  },
  {
   "cell_type": "code",
   "execution_count": 9,
   "metadata": {},
   "outputs": [
    {
     "name": "stdout",
     "output_type": "stream",
     "text": [
      "has_heating_system\n",
      "0    1000000\n",
      "Name: count, dtype: int64\n"
     ]
    }
   ],
   "source": [
    "print(divar_df['has_heating_system'].value_counts())"
   ]
  },
  {
   "cell_type": "code",
   "execution_count": 6,
   "metadata": {},
   "outputs": [],
   "source": [
    "target_heating_syste = ['shoofaj', 'heater', 'duct_split', 'floor_heating', 'split', 'fan_coil' , 'fireplace','unselect' ]\n",
    "\n",
    "divar_df['has_heating_system'] = divar_df['has_heating_system'].isin(target_heating_syste).astype(int)"
   ]
  },
  {
   "cell_type": "code",
   "execution_count": 7,
   "metadata": {},
   "outputs": [
    {
     "name": "stdout",
     "output_type": "stream",
     "text": [
      "has_heating_system\n",
      "0    1000000\n",
      "Name: count, dtype: int64\n"
     ]
    }
   ],
   "source": [
    "print(divar_df['has_heating_system'].value_counts())"
   ]
  },
  {
   "cell_type": "code",
   "execution_count": 10,
   "metadata": {},
   "outputs": [
    {
     "name": "stdout",
     "output_type": "stream",
     "text": [
      "has_cooling_system\n",
      "water_cooler       219266\n",
      "air_conditioner     52341\n",
      "split               38708\n",
      "duct_split          29373\n",
      "unselect             5917\n",
      "fan_coil             5014\n",
      "Name: count, dtype: int64\n"
     ]
    }
   ],
   "source": [
    "print(divar_df['has_cooling_system'].value_counts())"
   ]
  },
  {
   "cell_type": "code",
   "execution_count": 11,
   "metadata": {},
   "outputs": [],
   "source": [
    "target_cooling_system = ['water_cooler', 'air_conditioner', 'split', 'duct_split', 'unselect']\n",
    "\n",
    "divar_df['has_cooling_system'] = divar_df['has_cooling_system'].isin(target_cooling_system).astype(int)"
   ]
  },
  {
   "cell_type": "code",
   "execution_count": 12,
   "metadata": {},
   "outputs": [
    {
     "name": "stdout",
     "output_type": "stream",
     "text": [
      "has_cooling_system\n",
      "0    654395\n",
      "1    345605\n",
      "Name: count, dtype: int64\n"
     ]
    }
   ],
   "source": [
    "print(divar_df['has_cooling_system'].value_counts())"
   ]
  },
  {
   "cell_type": "code",
   "execution_count": 13,
   "metadata": {},
   "outputs": [
    {
     "name": "stdout",
     "output_type": "stream",
     "text": [
      "has_warm_water_provider\n",
      "package         205641\n",
      "water_heater    141082\n",
      "powerhouse       31395\n",
      "unselect          1382\n",
      "Name: count, dtype: int64\n"
     ]
    }
   ],
   "source": [
    "print(divar_df['has_warm_water_provider'].value_counts())"
   ]
  },
  {
   "cell_type": "code",
   "execution_count": 14,
   "metadata": {},
   "outputs": [],
   "source": [
    "target_warm_water_provider = ['package', 'water_heater', 'powerhouse', 'unselect']\n",
    "\n",
    "divar_df['has_warm_water_provider'] = divar_df['has_warm_water_provider'].isin(target_warm_water_provider).astype(int)"
   ]
  },
  {
   "cell_type": "code",
   "execution_count": 15,
   "metadata": {},
   "outputs": [
    {
     "name": "stdout",
     "output_type": "stream",
     "text": [
      "has_warm_water_provider\n",
      "0    620500\n",
      "1    379500\n",
      "Name: count, dtype: int64\n"
     ]
    }
   ],
   "source": [
    "print(divar_df['has_warm_water_provider'].value_counts())"
   ]
  },
  {
   "cell_type": "code",
   "execution_count": 16,
   "metadata": {},
   "outputs": [],
   "source": [
    "divar_df['has_system_columns'] = divar_df['has_cooling_system'] + divar_df['has_heating_system'] + divar_df['has_warm_water_provider']"
   ]
  },
  {
   "cell_type": "code",
   "execution_count": 17,
   "metadata": {},
   "outputs": [
    {
     "name": "stdout",
     "output_type": "stream",
     "text": [
      "has_system_columns\n",
      "0    603723\n",
      "2    328828\n",
      "1     67449\n",
      "Name: count, dtype: int64\n"
     ]
    }
   ],
   "source": [
    "print(divar_df['has_system_columns'].value_counts())"
   ]
  },
  {
   "cell_type": "code",
   "execution_count": 18,
   "metadata": {},
   "outputs": [
    {
     "name": "stdout",
     "output_type": "stream",
     "text": [
      "has_security_guard\n",
      "False    24631\n",
      "True      6681\n",
      "Name: count, dtype: int64\n"
     ]
    }
   ],
   "source": [
    "print(divar_df['has_security_guard'].value_counts())"
   ]
  },
  {
   "cell_type": "code",
   "execution_count": 19,
   "metadata": {},
   "outputs": [],
   "source": [
    "luxury_columns = ['has_pool', 'has_sauna', 'has_jacuzzi', 'has_security_guard']\n",
    "\n",
    "divar_df['has_luxury_features'] = divar_df[luxury_columns].any(axis=1)\n",
    "\n",
    "divar_df = divar_df.drop(columns=luxury_columns)"
   ]
  },
  {
   "cell_type": "code",
   "execution_count": 20,
   "metadata": {},
   "outputs": [
    {
     "name": "stdout",
     "output_type": "stream",
     "text": [
      "has_luxury_features\n",
      "False    991767\n",
      "True       8233\n",
      "Name: count, dtype: int64\n"
     ]
    }
   ],
   "source": [
    "print(divar_df['has_luxury_features'].value_counts())"
   ]
  },
  {
   "cell_type": "code",
   "execution_count": 21,
   "metadata": {},
   "outputs": [],
   "source": [
    "infra_cols = ['has_water', 'has_electricity', 'has_gas']\n",
    "divar_df['infrastructure_score'] = divar_df[infra_cols].sum(axis=1)\n",
    "divar_df = divar_df.drop(columns=infra_cols)"
   ]
  },
  {
   "cell_type": "code",
   "execution_count": 18,
   "metadata": {},
   "outputs": [
    {
     "data": {
      "text/plain": [
       "<bound method DataFrame.info of         Unnamed: 0         cat2_slug         cat3_slug      city_slug  \\\n",
       "0                0    temporary-rent             villa          karaj   \n",
       "1                1  residential-sell    apartment-sell         tehran   \n",
       "2                2  residential-rent    apartment-rent         tehran   \n",
       "3                3   commercial-rent       office-rent         tehran   \n",
       "4                4  residential-sell    apartment-sell        mashhad   \n",
       "...            ...               ...               ...            ...   \n",
       "999995      999995  residential-sell    apartment-sell     kermanshah   \n",
       "999996      999996  residential-rent    apartment-rent         tehran   \n",
       "999997      999997  residential-sell  house-villa-sell           yazd   \n",
       "999998      999998    temporary-rent   suite-apartment  bandar-anzali   \n",
       "999999      999999  residential-rent    apartment-rent         tehran   \n",
       "\n",
       "       neighborhood_slug     created_at_month    user_type rent_mode  \\\n",
       "0              mehrshahr  2024-08-01 00:00:00  مشاور املاک       NaN   \n",
       "1                gholhak  2024-05-01 00:00:00  مشاور املاک       NaN   \n",
       "2                  tohid  2024-10-01 00:00:00          NaN     مقطوع   \n",
       "3               elahiyeh  2024-06-01 00:00:00          NaN     مقطوع   \n",
       "4               emamreza  2024-05-01 00:00:00  مشاور املاک       NaN   \n",
       "...                  ...                  ...          ...       ...   \n",
       "999995               NaN  2024-07-01 00:00:00  مشاور املاک       NaN   \n",
       "999996             darya  2024-07-01 00:00:00  مشاور املاک     مقطوع   \n",
       "999997               NaN  2024-11-01 00:00:00          NaN       NaN   \n",
       "999998               NaN  2024-09-01 00:00:00          NaN       NaN   \n",
       "999999           jeyhoun  2024-08-01 00:00:00  مشاور املاک     مجانی   \n",
       "\n",
       "        rent_value    rent_type  ... cost_per_extra_person  \\\n",
       "0              NaN          NaN  ...              350000.0   \n",
       "1              NaN          NaN  ...                   NaN   \n",
       "2       26000000.0          NaN  ...                   NaN   \n",
       "3       95000000.0          NaN  ...                   NaN   \n",
       "4              NaN          NaN  ...                   NaN   \n",
       "...            ...          ...  ...                   ...   \n",
       "999995         NaN          NaN  ...                   NaN   \n",
       "999996  45000000.0  rent_credit  ...                   NaN   \n",
       "999997         NaN          NaN  ...                   NaN   \n",
       "999998         NaN          NaN  ...                   NaN   \n",
       "999999         0.0  rent_credit  ...                   NaN   \n",
       "\n",
       "        rent_price_on_regular_days rent_price_on_special_days  \\\n",
       "0                        1500000.0               3.500000e+09   \n",
       "1                              NaN                        NaN   \n",
       "2                              NaN                        NaN   \n",
       "3                              NaN                        NaN   \n",
       "4                              NaN                        NaN   \n",
       "...                            ...                        ...   \n",
       "999995                         NaN                        NaN   \n",
       "999996                         NaN                        NaN   \n",
       "999997                         NaN                        NaN   \n",
       "999998                   3000000.0                        NaN   \n",
       "999999                         NaN                        NaN   \n",
       "\n",
       "        rent_price_at_weekends location_latitude location_longitude  \\\n",
       "0                    3500000.0         35.811684          50.936600   \n",
       "1                          NaN               NaN                NaN   \n",
       "2                          NaN         35.703865          51.373459   \n",
       "3                          NaN               NaN                NaN   \n",
       "4                          NaN               NaN                NaN   \n",
       "...                        ...               ...                ...   \n",
       "999995                     NaN         34.350235          47.083241   \n",
       "999996                     NaN         35.770454          51.369099   \n",
       "999997                     NaN               NaN                NaN   \n",
       "999998                     NaN         37.483501          49.438721   \n",
       "999999                     NaN         35.680767          51.365299   \n",
       "\n",
       "        location_radius  has_system_columns  has_luxury_features  \\\n",
       "0                 500.0                   0                False   \n",
       "1                 500.0                   0                False   \n",
       "2                   NaN                   0                False   \n",
       "3                   NaN                   0                False   \n",
       "4                   NaN                   3                False   \n",
       "...                 ...                 ...                  ...   \n",
       "999995            500.0                   0                False   \n",
       "999996            500.0                   0                False   \n",
       "999997              NaN                   0                False   \n",
       "999998              NaN                   0                False   \n",
       "999999            500.0                   3                False   \n",
       "\n",
       "        infrastructure_score  \n",
       "0                          0  \n",
       "1                          0  \n",
       "2                          0  \n",
       "3                          0  \n",
       "4                          0  \n",
       "...                      ...  \n",
       "999995                     0  \n",
       "999996                     0  \n",
       "999997                     0  \n",
       "999998                     0  \n",
       "999999                     0  \n",
       "\n",
       "[1000000 rows x 51 columns]>"
      ]
     },
     "execution_count": 18,
     "metadata": {},
     "output_type": "execute_result"
    }
   ],
   "source": [
    "divar_df.shape\n",
    "divar_df.info"
   ]
  },
  {
   "cell_type": "code",
   "execution_count": 22,
   "metadata": {},
   "outputs": [],
   "source": [
    "facility_score = ['has_parking', 'has_elevator', 'has_warehouse']\n",
    "divar_df['facility_score'] = divar_df[facility_score].sum(axis=1)\n",
    "divar_df = divar_df.drop(columns=facility_score)"
   ]
  },
  {
   "cell_type": "code",
   "execution_count": 23,
   "metadata": {},
   "outputs": [],
   "source": [
    "divar_df['total_floors_count'] = pd.to_numeric(divar_df['total_floors_count'], errors='coerce')"
   ]
  },
  {
   "cell_type": "code",
   "execution_count": 24,
   "metadata": {},
   "outputs": [
    {
     "name": "stdout",
     "output_type": "stream",
     "text": [
      "696006\n"
     ]
    }
   ],
   "source": [
    "nan_counts = divar_df['total_floors_count'].isna().sum()\n",
    "\n",
    "\n",
    "print(nan_counts)"
   ]
  },
  {
   "cell_type": "code",
   "execution_count": 25,
   "metadata": {},
   "outputs": [],
   "source": [
    "divar_df['total_floors_count'] = divar_df.groupby(['city_slug', 'neighborhood_slug'])['total_floors_count'].transform(\n",
    "    lambda x: x.fillna(x.mean())\n",
    ")"
   ]
  },
  {
   "cell_type": "code",
   "execution_count": 26,
   "metadata": {},
   "outputs": [],
   "source": [
    "mask = divar_df['total_floors_count'].isna()\n",
    "\n",
    "divar_df.loc[mask, 'total_floors_count'] = divar_df.groupby('city_slug')['total_floors_count'].transform(\n",
    "    lambda x: x.fillna(x.mean())\n",
    ")[mask]"
   ]
  },
  {
   "cell_type": "code",
   "execution_count": 27,
   "metadata": {},
   "outputs": [
    {
     "name": "stderr",
     "output_type": "stream",
     "text": [
      "C:\\Users\\Lenovo\\AppData\\Local\\Temp\\ipykernel_2008\\3948902769.py:1: FutureWarning: A value is trying to be set on a copy of a DataFrame or Series through chained assignment using an inplace method.\n",
      "The behavior will change in pandas 3.0. This inplace method will never work because the intermediate object on which we are setting values always behaves as a copy.\n",
      "\n",
      "For example, when doing 'df[col].method(value, inplace=True)', try using 'df.method({col: value}, inplace=True)' or df[col] = df[col].method(value) instead, to perform the operation inplace on the original object.\n",
      "\n",
      "\n",
      "  divar_df['total_floors_count'].fillna(divar_df['total_floors_count'].mean(), inplace=True)\n"
     ]
    }
   ],
   "source": [
    "divar_df['total_floors_count'].fillna(divar_df['total_floors_count'].mean(), inplace=True)"
   ]
  },
  {
   "cell_type": "code",
   "execution_count": 28,
   "metadata": {},
   "outputs": [],
   "source": [
    "divar_df['total_floors_count'] = divar_df['total_floors_count'].round().astype('Int64')"
   ]
  },
  {
   "cell_type": "code",
   "execution_count": 29,
   "metadata": {},
   "outputs": [],
   "source": [
    "divar_df['unit_per_floor'] = pd.to_numeric(divar_df['unit_per_floor'], errors='coerce')"
   ]
  },
  {
   "cell_type": "code",
   "execution_count": 30,
   "metadata": {},
   "outputs": [],
   "source": [
    "divar_df['unit_per_floor'] = divar_df.groupby(['city_slug', 'neighborhood_slug'])['unit_per_floor'].transform(\n",
    "    lambda x: x.fillna(x.mean())\n",
    ")"
   ]
  },
  {
   "cell_type": "code",
   "execution_count": 31,
   "metadata": {},
   "outputs": [],
   "source": [
    "mask = divar_df['unit_per_floor'].isna()\n",
    "\n",
    "divar_df.loc[mask, 'unit_per_floor'] = divar_df.groupby('city_slug')['unit_per_floor'].transform(\n",
    "    lambda x: x.fillna(x.mean())\n",
    ")[mask]"
   ]
  },
  {
   "cell_type": "code",
   "execution_count": 32,
   "metadata": {},
   "outputs": [
    {
     "name": "stderr",
     "output_type": "stream",
     "text": [
      "C:\\Users\\Lenovo\\AppData\\Local\\Temp\\ipykernel_2008\\1761935966.py:1: FutureWarning: A value is trying to be set on a copy of a DataFrame or Series through chained assignment using an inplace method.\n",
      "The behavior will change in pandas 3.0. This inplace method will never work because the intermediate object on which we are setting values always behaves as a copy.\n",
      "\n",
      "For example, when doing 'df[col].method(value, inplace=True)', try using 'df.method({col: value}, inplace=True)' or df[col] = df[col].method(value) instead, to perform the operation inplace on the original object.\n",
      "\n",
      "\n",
      "  divar_df['unit_per_floor'].fillna(divar_df['unit_per_floor'].mean(), inplace=True)\n"
     ]
    }
   ],
   "source": [
    "divar_df['unit_per_floor'].fillna(divar_df['unit_per_floor'].mean(), inplace=True)"
   ]
  },
  {
   "cell_type": "code",
   "execution_count": 33,
   "metadata": {},
   "outputs": [],
   "source": [
    "divar_df['unit_per_floor'] = divar_df['unit_per_floor'].round().astype('Int64')"
   ]
  },
  {
   "cell_type": "code",
   "execution_count": 34,
   "metadata": {},
   "outputs": [],
   "source": [
    "divar_df['total_units'] = divar_df['total_floors_count'] * divar_df['unit_per_floor']\n",
    "divar_df['density_per_floor'] = divar_df['unit_per_floor'] / divar_df['total_units']\n"
   ]
  },
  {
   "cell_type": "code",
   "execution_count": 35,
   "metadata": {},
   "outputs": [],
   "source": [
    "divar_df = divar_df.drop(columns=['total_units', 'unit_per_floor'])"
   ]
  },
  {
   "cell_type": "code",
   "execution_count": 36,
   "metadata": {},
   "outputs": [
    {
     "name": "stdout",
     "output_type": "stream",
     "text": [
      "building_direction\n",
      "south       159453\n",
      "north       142009\n",
      "east         12111\n",
      "west          7143\n",
      "unselect      3207\n",
      "Name: count, dtype: int64\n"
     ]
    }
   ],
   "source": [
    "print(divar_df['building_direction'].value_counts())"
   ]
  },
  {
   "cell_type": "code",
   "execution_count": 37,
   "metadata": {},
   "outputs": [],
   "source": [
    "divar_df['building_direction'] = divar_df['building_direction'].fillna('نامشخص')\n",
    "divar_df.loc[divar_df['building_direction'] == 'unselect', 'building_direction'] = 'نامشخص'\n"
   ]
  },
  {
   "cell_type": "code",
   "execution_count": 38,
   "metadata": {},
   "outputs": [],
   "source": [
    "\n",
    "divar_df = pd.get_dummies(divar_df, columns=['building_direction'], prefix='dir')"
   ]
  },
  {
   "cell_type": "code",
   "execution_count": 39,
   "metadata": {},
   "outputs": [
    {
     "data": {
      "text/plain": [
       "<bound method DataFrame.info of         Unnamed: 0         cat2_slug         cat3_slug      city_slug  \\\n",
       "0                0    temporary-rent             villa          karaj   \n",
       "1                1  residential-sell    apartment-sell         tehran   \n",
       "2                2  residential-rent    apartment-rent         tehran   \n",
       "3                3   commercial-rent       office-rent         tehran   \n",
       "4                4  residential-sell    apartment-sell        mashhad   \n",
       "...            ...               ...               ...            ...   \n",
       "999995      999995  residential-sell    apartment-sell     kermanshah   \n",
       "999996      999996  residential-rent    apartment-rent         tehran   \n",
       "999997      999997  residential-sell  house-villa-sell           yazd   \n",
       "999998      999998    temporary-rent   suite-apartment  bandar-anzali   \n",
       "999999      999999  residential-rent    apartment-rent         tehran   \n",
       "\n",
       "       neighborhood_slug     created_at_month    user_type  \\\n",
       "0              mehrshahr  2024-08-01 00:00:00  مشاور املاک   \n",
       "1                gholhak  2024-05-01 00:00:00  مشاور املاک   \n",
       "2                  tohid  2024-10-01 00:00:00          NaN   \n",
       "3               elahiyeh  2024-06-01 00:00:00          NaN   \n",
       "4               emamreza  2024-05-01 00:00:00  مشاور املاک   \n",
       "...                  ...                  ...          ...   \n",
       "999995               NaN  2024-07-01 00:00:00  مشاور املاک   \n",
       "999996             darya  2024-07-01 00:00:00  مشاور املاک   \n",
       "999997               NaN  2024-11-01 00:00:00          NaN   \n",
       "999998               NaN  2024-09-01 00:00:00          NaN   \n",
       "999999           jeyhoun  2024-08-01 00:00:00  مشاور املاک   \n",
       "\n",
       "                                              description  \\\n",
       "0       ۵۰۰متر\\n۲۰۰متر بنا دوبلکس\\n۳خواب\\nاستخر آبگرم ...   \n",
       "1       دسترسی عالی به مترو و شریعتی \\nمشاعات تمیز \\nب...   \n",
       "2                                         تخلیه پایان ماه   \n",
       "3       فرشته تاپ لوکیشن\\n۹۰ متر موقعیت اداری\\nیک اتاق...   \n",
       "4       هلدینگ ساختمانی اکبری\\n\\nهمراه شما هستیم برای ...   \n",
       "...                                                   ...   \n",
       "999995  ~~~مشاورین املاک قبادی~~~\\n■جنوبی تک واحدی\\n■د...   \n",
       "999996  نوساز     \\n\\n تک واحدی\\n\\nشخصی  ساز\\n\\nروف گا...   \n",
       "999997  سلام ودرود\\nفروش منزل مسکونی واقع در خیابان ان...   \n",
       "999998  سویت بدون خواب (روبه دریا و معمولی)\\nسویت ۱خوا...   \n",
       "999999  ⚜️املاک بزرگ میلیارد⚜️\\n✅️۴۰ متر یک خواب\\n✅️نو...   \n",
       "\n",
       "                                                    title rent_mode  ...  \\\n",
       "0        باغ ویلا اجاره روزانه استخر داخل لشکرآباد سهیلیه       NaN  ...   \n",
       "1                                 ۶۰ متر قلهک فول امکانات       NaN  ...   \n",
       "2                                آپارتمان ۳ خوابه ۱۳۲ متر     مقطوع  ...   \n",
       "3                 فرشته ۹۰ متر دفتر کار مدرن موقعیت اداری     مقطوع  ...   \n",
       "4                        ۱۱۵ متری/شمالی رو به آفتاب/اکبری       NaN  ...   \n",
       "...                                                   ...       ...  ...   \n",
       "999995                        آپارتمان ۱۸۰ متری وحدت غربی       NaN  ...   \n",
       "999996       آپارتمان  ۱۱۰  متری     سعادت   آباد    دریا     مقطوع  ...   \n",
       "999997  منزل فروشی.  خیابان انقلاب   نرسیده به کارخانه...       NaN  ...   \n",
       "999998                    مجتمع ویلایی کنار ساحل پاسداران       NaN  ...   \n",
       "999999                       ۴۰ متر/ یک خواب /فول بازسازی     مجانی  ...   \n",
       "\n",
       "        has_system_columns has_luxury_features infrastructure_score  \\\n",
       "0                        0               False                    0   \n",
       "1                        0               False                    0   \n",
       "2                        0               False                    0   \n",
       "3                        0               False                    0   \n",
       "4                        2               False                    0   \n",
       "...                    ...                 ...                  ...   \n",
       "999995                   0               False                    0   \n",
       "999996                   0               False                    0   \n",
       "999997                   0               False                    0   \n",
       "999998                   0               False                    0   \n",
       "999999                   2               False                    0   \n",
       "\n",
       "       facility_score  density_per_floor dir_east  dir_north dir_south  \\\n",
       "0                   0               0.25    False      False     False   \n",
       "1                   3                0.2    False      False     False   \n",
       "2                   3               0.25    False      False     False   \n",
       "3                   2              0.125    False      False     False   \n",
       "4                   3           0.166667    False       True     False   \n",
       "...               ...                ...      ...        ...       ...   \n",
       "999995              3                0.2    False      False     False   \n",
       "999996              3                0.2    False      False     False   \n",
       "999997              2                0.2    False      False     False   \n",
       "999998              0                0.2    False      False     False   \n",
       "999999              0              0.125    False      False     False   \n",
       "\n",
       "       dir_west  dir_نامشخص  \n",
       "0         False        True  \n",
       "1         False        True  \n",
       "2         False        True  \n",
       "3         False        True  \n",
       "4         False       False  \n",
       "...         ...         ...  \n",
       "999995    False        True  \n",
       "999996    False        True  \n",
       "999997    False        True  \n",
       "999998    False        True  \n",
       "999999    False        True  \n",
       "\n",
       "[1000000 rows x 57 columns]>"
      ]
     },
     "execution_count": 39,
     "metadata": {},
     "output_type": "execute_result"
    }
   ],
   "source": [
    "divar_df.shape\n",
    "divar_df.info"
   ]
  },
  {
   "cell_type": "code",
   "execution_count": 40,
   "metadata": {},
   "outputs": [],
   "source": [
    "divar_df['ad_year'] = pd.to_datetime(divar_df['created_at_month']).dt.year"
   ]
  },
  {
   "cell_type": "code",
   "execution_count": 41,
   "metadata": {},
   "outputs": [
    {
     "name": "stdout",
     "output_type": "stream",
     "text": [
      "ad_year\n",
      "2024    996946\n",
      "2023      1689\n",
      "2025      1292\n",
      "2022        65\n",
      "2021         6\n",
      "2020         2\n",
      "Name: count, dtype: int64\n"
     ]
    }
   ],
   "source": [
    "print(divar_df['ad_year'].value_counts())"
   ]
  },
  {
   "cell_type": "code",
   "execution_count": 42,
   "metadata": {},
   "outputs": [],
   "source": [
    "def convert_persian_digits(text):\n",
    "    persian_digits = '۰۱۲۳۴۵۶۷۸۹'\n",
    "    english_digits = '0123456789'\n",
    "    translation_table = str.maketrans(persian_digits, english_digits)\n",
    "    return str(text).translate(translation_table)"
   ]
  },
  {
   "cell_type": "code",
   "execution_count": 43,
   "metadata": {},
   "outputs": [],
   "source": [
    "divar_df['construction_year'] = divar_df['construction_year'].apply(convert_persian_digits)\n",
    "\n",
    "\n",
    "divar_df['construction_year'] = pd.to_numeric(divar_df['construction_year'], errors='coerce')"
   ]
  },
  {
   "cell_type": "code",
   "execution_count": 44,
   "metadata": {},
   "outputs": [
    {
     "name": "stdout",
     "output_type": "stream",
     "text": [
      "construction_year\n",
      "1403.0    116260\n",
      "1390.0     59139\n",
      "1402.0     58424\n",
      "1400.0     53674\n",
      "1395.0     53029\n",
      "1398.0     38207\n",
      "1397.0     36326\n",
      "1396.0     35487\n",
      "1401.0     35328\n",
      "1385.0     34065\n",
      "1399.0     29594\n",
      "1393.0     29094\n",
      "1392.0     26130\n",
      "1394.0     26110\n",
      "1388.0     24268\n",
      "1380.0     23480\n",
      "1389.0     16755\n",
      "1391.0     16316\n",
      "1387.0     14136\n",
      "1386.0     13468\n",
      "1383.0      9894\n",
      "1384.0      8494\n",
      "1375.0      7247\n",
      "1382.0      6965\n",
      "1371.0      5531\n",
      "1381.0      3590\n",
      "1378.0      3025\n",
      "1379.0      2415\n",
      "1377.0      2117\n",
      "1372.0      1914\n",
      "1373.0      1827\n",
      "1376.0      1593\n",
      "1374.0      1289\n",
      "Name: count, dtype: int64\n"
     ]
    }
   ],
   "source": [
    "print(divar_df['construction_year'].value_counts())"
   ]
  },
  {
   "cell_type": "code",
   "execution_count": 45,
   "metadata": {},
   "outputs": [],
   "source": [
    "divar_df['ad_year'] = divar_df['ad_year'].round().astype('Int32')"
   ]
  },
  {
   "cell_type": "code",
   "execution_count": 46,
   "metadata": {},
   "outputs": [],
   "source": [
    "divar_df['building_age'] = divar_df['ad_year'] - divar_df['construction_year'] - 621\n",
    "divar_df['building_age'] = divar_df['building_age'].clip(lower=0)  "
   ]
  },
  {
   "cell_type": "code",
   "execution_count": 47,
   "metadata": {},
   "outputs": [],
   "source": [
    "divar_df = divar_df.drop('construction_year', axis=1)"
   ]
  },
  {
   "cell_type": "code",
   "execution_count": 48,
   "metadata": {},
   "outputs": [
    {
     "name": "stdout",
     "output_type": "stream",
     "text": [
      "building_age\n",
      "0.0     116310\n",
      "13.0     59091\n",
      "1.0      58447\n",
      "3.0      53558\n",
      "8.0      52991\n",
      "5.0      38204\n",
      "6.0      36311\n",
      "7.0      35510\n",
      "2.0      35309\n",
      "18.0     34039\n",
      "4.0      29629\n",
      "10.0     29074\n",
      "11.0     26152\n",
      "9.0      26150\n",
      "15.0     24255\n",
      "23.0     23449\n",
      "14.0     16787\n",
      "12.0     16342\n",
      "16.0     14147\n",
      "17.0     13479\n",
      "20.0      9887\n",
      "19.0      8516\n",
      "28.0      7239\n",
      "21.0      6969\n",
      "32.0      5523\n",
      "22.0      3615\n",
      "25.0      3025\n",
      "24.0      2427\n",
      "26.0      2116\n",
      "31.0      1918\n",
      "30.0      1825\n",
      "27.0      1599\n",
      "29.0      1295\n",
      "33.0         3\n",
      "Name: count, dtype: Int64\n"
     ]
    }
   ],
   "source": [
    "print(divar_df['building_age'].value_counts())"
   ]
  },
  {
   "cell_type": "code",
   "execution_count": 49,
   "metadata": {},
   "outputs": [],
   "source": [
    "divar_df['effective_age'] = divar_df['building_age'] - (divar_df['is_rebuilt'] * 10)\n",
    "divar_df['effective_age'] = divar_df['effective_age'].clip(lower=0) "
   ]
  },
  {
   "cell_type": "code",
   "execution_count": 50,
   "metadata": {},
   "outputs": [
    {
     "name": "stdout",
     "output_type": "stream",
     "text": [
      "effective_age\n",
      "0       142685\n",
      "3.0      40755\n",
      "8.0      34587\n",
      "1.0      34065\n",
      "13.0     30345\n",
      "5.0      25381\n",
      "2.0      21677\n",
      "6.0      21170\n",
      "7.0      20492\n",
      "4.0      19270\n",
      "10.0     16452\n",
      "9.0      14635\n",
      "18.0     14101\n",
      "11.0     13947\n",
      "15.0      9921\n",
      "23.0      8370\n",
      "12.0      8269\n",
      "14.0      7421\n",
      "16.0      5743\n",
      "17.0      5287\n",
      "20.0      3715\n",
      "19.0      3263\n",
      "21.0      2924\n",
      "28.0      2794\n",
      "22.0      2623\n",
      "32.0      2220\n",
      "25.0      1089\n",
      "24.0       933\n",
      "26.0       817\n",
      "31.0       770\n",
      "30.0       719\n",
      "27.0       614\n",
      "29.0       498\n",
      "33.0         2\n",
      "Name: count, dtype: int64\n"
     ]
    }
   ],
   "source": [
    "print(divar_df['effective_age'].value_counts())"
   ]
  },
  {
   "cell_type": "code",
   "execution_count": 51,
   "metadata": {},
   "outputs": [
    {
     "name": "stderr",
     "output_type": "stream",
     "text": [
      "C:\\Users\\Lenovo\\AppData\\Local\\Temp\\ipykernel_2008\\476863760.py:1: FutureWarning: Downcasting object dtype arrays on .fillna, .ffill, .bfill is deprecated and will change in a future version. Call result.infer_objects(copy=False) instead. To opt-in to the future behavior, set `pd.set_option('future.no_silent_downcasting', True)`\n",
      "  divar_df['is_rebuilt'] = divar_df['is_rebuilt'].fillna(False).astype(int)\n"
     ]
    }
   ],
   "source": [
    "divar_df['is_rebuilt'] = divar_df['is_rebuilt'].fillna(False).astype(int)"
   ]
  },
  {
   "cell_type": "code",
   "execution_count": 52,
   "metadata": {},
   "outputs": [],
   "source": [
    "divar_df = divar_df.drop('is_rebuilt', axis=1)"
   ]
  },
  {
   "cell_type": "code",
   "execution_count": 53,
   "metadata": {},
   "outputs": [
    {
     "name": "stdout",
     "output_type": "stream",
     "text": [
      "floor_material\n",
      "ceramic             307821\n",
      "stone                38395\n",
      "carpet               17696\n",
      "mosaic               14611\n",
      "wood_parquet         14419\n",
      "laminate_parquet      9582\n",
      "floor_covering        1793\n",
      "unselect              1667\n",
      "Name: count, dtype: int64\n"
     ]
    }
   ],
   "source": [
    "print(divar_df['floor_material'].value_counts())"
   ]
  },
  {
   "cell_type": "code",
   "execution_count": 54,
   "metadata": {},
   "outputs": [],
   "source": [
    "material_rank = {\n",
    "    'carpet': 0,\n",
    "    'mosaic': 1,\n",
    "    'ceramic': 2,\n",
    "    'stone': 3,\n",
    "    'laminate_parquet': 4,\n",
    "    'wood_parquet': 5\n",
    "}"
   ]
  },
  {
   "cell_type": "code",
   "execution_count": 55,
   "metadata": {},
   "outputs": [],
   "source": [
    "divar_df['floor_material'] = divar_df['floor_material'].replace('floor_covering', np.nan)\n",
    "divar_df['floor_material'] = divar_df['floor_material'].replace('unselect', np.nan)"
   ]
  },
  {
   "cell_type": "code",
   "execution_count": 56,
   "metadata": {},
   "outputs": [],
   "source": [
    "divar_df['floor_material_rank'] = divar_df['floor_material'].map(material_rank)"
   ]
  },
  {
   "cell_type": "code",
   "execution_count": 57,
   "metadata": {},
   "outputs": [],
   "source": [
    "divar_df['floor_material_rank'] = divar_df['floor_material_rank'].fillna(0).astype(int)"
   ]
  },
  {
   "cell_type": "code",
   "execution_count": 58,
   "metadata": {},
   "outputs": [
    {
     "name": "stdout",
     "output_type": "stream",
     "text": [
      "floor_material_rank\n",
      "0    615172\n",
      "2    307821\n",
      "3     38395\n",
      "1     14611\n",
      "5     14419\n",
      "4      9582\n",
      "Name: count, dtype: int64\n"
     ]
    }
   ],
   "source": [
    "print(divar_df['floor_material_rank'].value_counts())"
   ]
  },
  {
   "cell_type": "code",
   "execution_count": 59,
   "metadata": {},
   "outputs": [],
   "source": [
    "divar_df = divar_df.drop(['location_latitude', 'location_longitude', 'location_radius'], axis=1)\n"
   ]
  },
  {
   "cell_type": "code",
   "execution_count": 60,
   "metadata": {},
   "outputs": [],
   "source": [
    "divar_df = divar_df[~divar_df['cat3_slug'].isin(['other', 'partnership'])]"
   ]
  },
  {
   "cell_type": "code",
   "execution_count": 61,
   "metadata": {},
   "outputs": [],
   "source": [
    "divar_df = divar_df[~divar_df['cat2_slug'].isin(['real-estate-services'])]\n"
   ]
  },
  {
   "cell_type": "code",
   "execution_count": 62,
   "metadata": {},
   "outputs": [
    {
     "data": {
      "text/plain": [
       "<bound method DataFrame.info of         Unnamed: 0         cat2_slug         cat3_slug      city_slug  \\\n",
       "0                0    temporary-rent             villa          karaj   \n",
       "1                1  residential-sell    apartment-sell         tehran   \n",
       "2                2  residential-rent    apartment-rent         tehran   \n",
       "3                3   commercial-rent       office-rent         tehran   \n",
       "4                4  residential-sell    apartment-sell        mashhad   \n",
       "...            ...               ...               ...            ...   \n",
       "999995      999995  residential-sell    apartment-sell     kermanshah   \n",
       "999996      999996  residential-rent    apartment-rent         tehran   \n",
       "999997      999997  residential-sell  house-villa-sell           yazd   \n",
       "999998      999998    temporary-rent   suite-apartment  bandar-anzali   \n",
       "999999      999999  residential-rent    apartment-rent         tehran   \n",
       "\n",
       "       neighborhood_slug     created_at_month    user_type  \\\n",
       "0              mehrshahr  2024-08-01 00:00:00  مشاور املاک   \n",
       "1                gholhak  2024-05-01 00:00:00  مشاور املاک   \n",
       "2                  tohid  2024-10-01 00:00:00          NaN   \n",
       "3               elahiyeh  2024-06-01 00:00:00          NaN   \n",
       "4               emamreza  2024-05-01 00:00:00  مشاور املاک   \n",
       "...                  ...                  ...          ...   \n",
       "999995               NaN  2024-07-01 00:00:00  مشاور املاک   \n",
       "999996             darya  2024-07-01 00:00:00  مشاور املاک   \n",
       "999997               NaN  2024-11-01 00:00:00          NaN   \n",
       "999998               NaN  2024-09-01 00:00:00          NaN   \n",
       "999999           jeyhoun  2024-08-01 00:00:00  مشاور املاک   \n",
       "\n",
       "                                              description  \\\n",
       "0       ۵۰۰متر\\n۲۰۰متر بنا دوبلکس\\n۳خواب\\nاستخر آبگرم ...   \n",
       "1       دسترسی عالی به مترو و شریعتی \\nمشاعات تمیز \\nب...   \n",
       "2                                         تخلیه پایان ماه   \n",
       "3       فرشته تاپ لوکیشن\\n۹۰ متر موقعیت اداری\\nیک اتاق...   \n",
       "4       هلدینگ ساختمانی اکبری\\n\\nهمراه شما هستیم برای ...   \n",
       "...                                                   ...   \n",
       "999995  ~~~مشاورین املاک قبادی~~~\\n■جنوبی تک واحدی\\n■د...   \n",
       "999996  نوساز     \\n\\n تک واحدی\\n\\nشخصی  ساز\\n\\nروف گا...   \n",
       "999997  سلام ودرود\\nفروش منزل مسکونی واقع در خیابان ان...   \n",
       "999998  سویت بدون خواب (روبه دریا و معمولی)\\nسویت ۱خوا...   \n",
       "999999  ⚜️املاک بزرگ میلیارد⚜️\\n✅️۴۰ متر یک خواب\\n✅️نو...   \n",
       "\n",
       "                                                    title rent_mode  ...  \\\n",
       "0        باغ ویلا اجاره روزانه استخر داخل لشکرآباد سهیلیه       NaN  ...   \n",
       "1                                 ۶۰ متر قلهک فول امکانات       NaN  ...   \n",
       "2                                آپارتمان ۳ خوابه ۱۳۲ متر     مقطوع  ...   \n",
       "3                 فرشته ۹۰ متر دفتر کار مدرن موقعیت اداری     مقطوع  ...   \n",
       "4                        ۱۱۵ متری/شمالی رو به آفتاب/اکبری       NaN  ...   \n",
       "...                                                   ...       ...  ...   \n",
       "999995                        آپارتمان ۱۸۰ متری وحدت غربی       NaN  ...   \n",
       "999996       آپارتمان  ۱۱۰  متری     سعادت   آباد    دریا     مقطوع  ...   \n",
       "999997  منزل فروشی.  خیابان انقلاب   نرسیده به کارخانه...       NaN  ...   \n",
       "999998                    مجتمع ویلایی کنار ساحل پاسداران       NaN  ...   \n",
       "999999                       ۴۰ متر/ یک خواب /فول بازسازی     مجانی  ...   \n",
       "\n",
       "        density_per_floor dir_east dir_north dir_south  dir_west dir_نامشخص  \\\n",
       "0                    0.25    False     False     False     False       True   \n",
       "1                     0.2    False     False     False     False       True   \n",
       "2                    0.25    False     False     False     False       True   \n",
       "3                   0.125    False     False     False     False       True   \n",
       "4                0.166667    False      True     False     False      False   \n",
       "...                   ...      ...       ...       ...       ...        ...   \n",
       "999995                0.2    False     False     False     False       True   \n",
       "999996                0.2    False     False     False     False       True   \n",
       "999997                0.2    False     False     False     False       True   \n",
       "999998                0.2    False     False     False     False       True   \n",
       "999999              0.125    False     False     False     False       True   \n",
       "\n",
       "        ad_year building_age effective_age  floor_material_rank  \n",
       "0          2024         <NA>           NaN                    0  \n",
       "1          2024         19.0           NaN                    0  \n",
       "2          2024          2.0           2.0                    0  \n",
       "3          2024          3.0           NaN                    0  \n",
       "4          2024          0.0           NaN                    2  \n",
       "...         ...          ...           ...                  ...  \n",
       "999995     2024          0.0           NaN                    0  \n",
       "999996     2024          0.0           NaN                    0  \n",
       "999997     2024         <NA>           NaN                    0  \n",
       "999998     2024         <NA>           NaN                    0  \n",
       "999999     2024         21.0          11.0                    2  \n",
       "\n",
       "[980597 rows x 56 columns]>"
      ]
     },
     "execution_count": 62,
     "metadata": {},
     "output_type": "execute_result"
    }
   ],
   "source": [
    "divar_df.shape\n",
    "divar_df.info"
   ]
  },
  {
   "cell_type": "code",
   "execution_count": 63,
   "metadata": {},
   "outputs": [],
   "source": [
    "\n",
    "def get_property_type(cat2_slug):\n",
    "    if pd.isna(cat2_slug):\n",
    "        return np.nan\n",
    "    elif cat2_slug.startswith('residential'):\n",
    "        return int(1)\n",
    "    elif cat2_slug.startswith('commercial'):\n",
    "        return int(2)\n",
    "    else:\n",
    "        return np.nan\n",
    "\n",
    "divar_df['deal_type'] = divar_df['cat2_slug'].apply(get_property_type)"
   ]
  },
  {
   "cell_type": "code",
   "execution_count": 64,
   "metadata": {},
   "outputs": [
    {
     "name": "stdout",
     "output_type": "stream",
     "text": [
      "deal_type\n",
      "1.0    835266\n",
      "2.0    115428\n",
      "Name: count, dtype: int64\n"
     ]
    }
   ],
   "source": [
    "print(divar_df['deal_type'].value_counts())"
   ]
  },
  {
   "cell_type": "code",
   "execution_count": 66,
   "metadata": {},
   "outputs": [
    {
     "name": "stderr",
     "output_type": "stream",
     "text": [
      "C:\\Users\\Lenovo\\AppData\\Local\\Temp\\ipykernel_2008\\1116618770.py:1: DtypeWarning: Columns (11,27,29,53) have mixed types. Specify dtype option on import or set low_memory=False.\n",
      "  df = pd.read_csv('Divar.csv')\n"
     ]
    }
   ],
   "source": [
    "df = pd.read_csv('Divar.csv')"
   ]
  },
  {
   "cell_type": "code",
   "execution_count": 67,
   "metadata": {},
   "outputs": [],
   "source": [
    "divar_df['rent/sell'] = df['cat2_slug']"
   ]
  },
  {
   "cell_type": "code",
   "execution_count": 68,
   "metadata": {},
   "outputs": [],
   "source": [
    "def get_rent_or_sell(cat2_slug):\n",
    "    if pd.isna(cat2_slug):\n",
    "        return np.nan\n",
    "    elif 'rent' in cat2_slug:\n",
    "        return 0\n",
    "    elif 'sell' in cat2_slug:\n",
    "        return 1\n",
    "    else:\n",
    "        return np.nan\n",
    "\n",
    "divar_df['rent/sell'] = divar_df['rent/sell'].apply(get_rent_or_sell)"
   ]
  },
  {
   "cell_type": "code",
   "execution_count": 69,
   "metadata": {},
   "outputs": [
    {
     "name": "stdout",
     "output_type": "stream",
     "text": [
      "rent/sell\n",
      "1    597569\n",
      "0    383028\n",
      "Name: count, dtype: int64\n"
     ]
    }
   ],
   "source": [
    "print(divar_df['rent/sell'].value_counts())"
   ]
  },
  {
   "cell_type": "code",
   "execution_count": 70,
   "metadata": {},
   "outputs": [],
   "source": [
    "divar_df = divar_df.drop(['cat2_slug', 'cat3_slug'], axis=1)"
   ]
  },
  {
   "cell_type": "code",
   "execution_count": 71,
   "metadata": {},
   "outputs": [],
   "source": [
    "sell_df = divar_df[divar_df['rent/sell'] == '1'].copy()\n",
    "sell_df['target'] = sell_df['price_value']\n",
    "\n",
    "# فقط ردیف‌های اجاره:\n",
    "rent_df = divar_df[divar_df['rent/sell'] == '0'].copy()\n",
    "rent_df['target'] = rent_df['rent_value'] + (rent_df['credit_value'] / 4)"
   ]
  },
  {
   "cell_type": "code",
   "execution_count": 72,
   "metadata": {},
   "outputs": [
    {
     "name": "stdout",
     "output_type": "stream",
     "text": [
      "Empty DataFrame\n",
      "Columns: [Unnamed: 0, city_slug, neighborhood_slug, created_at_month, user_type, description, title, rent_mode, rent_value, rent_to_single, rent_type, price_mode, price_value, credit_mode, credit_value, rent_credit_transform, transformable_price, transformable_credit, transformed_credit, transformable_rent, transformed_rent, land_size, building_size, deed_type, has_business_deed, floor, rooms_count, total_floors_count, has_balcony, has_warm_water_provider, has_heating_system, has_cooling_system, floor_material, property_type, regular_person_capacity, extra_person_capacity, cost_per_extra_person, rent_price_on_regular_days, rent_price_on_special_days, rent_price_at_weekends, has_system_columns, has_luxury_features, infrastructure_score, facility_score, density_per_floor, dir_east, dir_north, dir_south, dir_west, dir_نامشخص, ad_year, building_age, effective_age, floor_material_rank, deal_type, rent/sell, target]\n",
      "Index: []\n",
      "\n",
      "[0 rows x 57 columns]\n"
     ]
    }
   ],
   "source": [
    "print(rent_df[rent_df['rent_mode'] == 'مقطوع'])"
   ]
  },
  {
   "cell_type": "code",
   "execution_count": 61,
   "metadata": {},
   "outputs": [],
   "source": [
    "del df"
   ]
  },
  {
   "cell_type": "markdown",
   "metadata": {},
   "source": [
    "شروع مدل اجاره\n",
    "\n",
    "\n",
    "\n",
    "\n",
    "\n"
   ]
  },
  {
   "cell_type": "code",
   "execution_count": null,
   "metadata": {},
   "outputs": [],
   "source": [
    "rent_df = rent_df.drop(['cost_per_extra_person', 'cat3_slug'], axis=1)"
   ]
  },
  {
   "cell_type": "markdown",
   "metadata": {},
   "source": [
    "شروع مدل فروش\n",
    "\n",
    "\n",
    "\n"
   ]
  },
  {
   "cell_type": "code",
   "execution_count": 73,
   "metadata": {},
   "outputs": [],
   "source": [
    "\n",
    "\n",
    "\n",
    "sell_df = sell_df.drop(['rent_mode', 'rent_value', 'rent_type', 'credit_mode', 'credit_value', 'rent_credit_transform', 'transformable_price', 'transformable_credit', 'transformed_credit', 'transformable_rent','transformed_rent','regular_person_capacity', 'extra_person_capacity', 'rent_price_on_regular_days', 'rent_price_on_special_days', 'rent_price_at_weekends'], axis=1)\n",
    "\n"
   ]
  },
  {
   "cell_type": "code",
   "execution_count": 74,
   "metadata": {},
   "outputs": [
    {
     "data": {
      "text/plain": [
       "<bound method DataFrame.info of Empty DataFrame\n",
       "Columns: [Unnamed: 0, city_slug, neighborhood_slug, created_at_month, user_type, description, title, rent_to_single, price_mode, price_value, land_size, building_size, deed_type, has_business_deed, floor, rooms_count, total_floors_count, has_balcony, has_warm_water_provider, has_heating_system, has_cooling_system, floor_material, property_type, cost_per_extra_person, has_system_columns, has_luxury_features, infrastructure_score, facility_score, density_per_floor, dir_east, dir_north, dir_south, dir_west, dir_نامشخص, ad_year, building_age, effective_age, floor_material_rank, deal_type, rent/sell, target]\n",
       "Index: []\n",
       "\n",
       "[0 rows x 41 columns]>"
      ]
     },
     "execution_count": 74,
     "metadata": {},
     "output_type": "execute_result"
    }
   ],
   "source": [
    "sell_df.shape\n",
    "sell_df.info"
   ]
  },
  {
   "cell_type": "code",
   "execution_count": 75,
   "metadata": {},
   "outputs": [
    {
     "name": "stdout",
     "output_type": "stream",
     "text": [
      "Index(['Unnamed: 0', 'city_slug', 'neighborhood_slug', 'created_at_month',\n",
      "       'user_type', 'description', 'title', 'rent_to_single', 'price_mode',\n",
      "       'price_value', 'land_size', 'building_size', 'deed_type',\n",
      "       'has_business_deed', 'floor', 'rooms_count', 'total_floors_count',\n",
      "       'has_balcony', 'has_warm_water_provider', 'has_heating_system',\n",
      "       'has_cooling_system', 'floor_material', 'property_type',\n",
      "       'cost_per_extra_person', 'has_system_columns', 'has_luxury_features',\n",
      "       'infrastructure_score', 'facility_score', 'density_per_floor',\n",
      "       'dir_east', 'dir_north', 'dir_south', 'dir_west', 'dir_نامشخص',\n",
      "       'ad_year', 'building_age', 'effective_age', 'floor_material_rank',\n",
      "       'deal_type', 'rent/sell', 'target'],\n",
      "      dtype='object')\n"
     ]
    }
   ],
   "source": [
    "print(sell_df.columns)\n"
   ]
  },
  {
   "cell_type": "code",
   "execution_count": 76,
   "metadata": {},
   "outputs": [],
   "source": [
    "sell_df = sell_df.drop(['land_size', 'cost_per_extra_person', 'total_floors_count', 'has_heating_system', 'has_cooling_system' , 'has_warm_water_provider' , 'ad_year', 'building_age', 'rent/sell'], axis=1)"
   ]
  },
  {
   "cell_type": "code",
   "execution_count": 77,
   "metadata": {},
   "outputs": [],
   "source": [
    "sell_df['location_combined'] = sell_df['city_slug'].astype(str) + '__' + sell_df['neighborhood_slug'].astype(str)"
   ]
  },
  {
   "cell_type": "code",
   "execution_count": 78,
   "metadata": {},
   "outputs": [],
   "source": [
    "from sklearn.preprocessing import LabelEncoder\n",
    "\n",
    "le = LabelEncoder()\n",
    "sell_df['location_encoded'] = le.fit_transform(sell_df['location_combined'])"
   ]
  },
  {
   "cell_type": "code",
   "execution_count": 73,
   "metadata": {},
   "outputs": [],
   "source": [
    "sell_df = sell_df.drop(['city_slug', 'neighborhood_slug'], axis=1)"
   ]
  },
  {
   "cell_type": "code",
   "execution_count": 76,
   "metadata": {},
   "outputs": [],
   "source": [
    "sell_df = sell_df.drop(['location_combined'], axis=1)"
   ]
  },
  {
   "cell_type": "code",
   "execution_count": 77,
   "metadata": {},
   "outputs": [],
   "source": [
    "\n",
    "le = LabelEncoder()\n",
    "sell_df['user_type_encoded'] = le.fit_transform(sell_df['user_type'])"
   ]
  },
  {
   "cell_type": "code",
   "execution_count": 78,
   "metadata": {},
   "outputs": [
    {
     "name": "stdout",
     "output_type": "stream",
     "text": [
      "user_type_encoded\n",
      "2    422889\n",
      "1    155700\n",
      "0     18980\n",
      "Name: count, dtype: int64\n"
     ]
    }
   ],
   "source": [
    "print(sell_df['user_type_encoded'].value_counts())"
   ]
  },
  {
   "cell_type": "code",
   "execution_count": 79,
   "metadata": {},
   "outputs": [],
   "source": [
    "sell_df = sell_df.drop(['user_type'], axis=1)"
   ]
  },
  {
   "cell_type": "code",
   "execution_count": 83,
   "metadata": {},
   "outputs": [],
   "source": [
    "material_rank = {\n",
    "    'carpet': 0,\n",
    "    'mosaic': 1,\n",
    "    'ceramic': 2,\n",
    "    'stone': 3,\n",
    "    'laminate_parquet': 4,\n",
    "    'wood_parquet': 5\n",
    "}"
   ]
  },
  {
   "cell_type": "code",
   "execution_count": 85,
   "metadata": {},
   "outputs": [],
   "source": [
    "sell_df['floor_material'] = sell_df['floor_material'].replace('floor_covering', np.nan)\n",
    "sell_df['floor_material'] = sell_df['floor_material'].replace('unselect', np.nan)"
   ]
  },
  {
   "cell_type": "code",
   "execution_count": 86,
   "metadata": {},
   "outputs": [],
   "source": [
    "sell_df['floor_material_rank'] = sell_df['floor_material'].map(material_rank)"
   ]
  },
  {
   "cell_type": "code",
   "execution_count": 88,
   "metadata": {},
   "outputs": [],
   "source": [
    "sell_df['floor_material_rank'] = sell_df['floor_material_rank'].fillna(0).astype(int)"
   ]
  },
  {
   "cell_type": "code",
   "execution_count": 93,
   "metadata": {},
   "outputs": [],
   "source": [
    "sell_df = sell_df.drop(['floor_material'], axis=1)"
   ]
  },
  {
   "cell_type": "code",
   "execution_count": 102,
   "metadata": {},
   "outputs": [
    {
     "name": "stdout",
     "output_type": "stream",
     "text": [
      "property_type_encoded\n",
      "4    577828\n",
      "1     15061\n",
      "0      2725\n",
      "2      1805\n",
      "3       150\n",
      "Name: count, dtype: int64\n"
     ]
    }
   ],
   "source": [
    "\n",
    "print(sell_df['property_type_encoded'].value_counts())"
   ]
  },
  {
   "cell_type": "code",
   "execution_count": 99,
   "metadata": {},
   "outputs": [],
   "source": [
    "sell_df['property_type'] = sell_df['property_type'].replace('other', np.nan)"
   ]
  },
  {
   "cell_type": "code",
   "execution_count": 100,
   "metadata": {},
   "outputs": [],
   "source": [
    "le = LabelEncoder()\n",
    "sell_df['property_type_encoded'] = le.fit_transform(sell_df['property_type'])"
   ]
  },
  {
   "cell_type": "code",
   "execution_count": 103,
   "metadata": {},
   "outputs": [],
   "source": [
    "sell_df = sell_df.drop(['property_type'], axis=1)"
   ]
  },
  {
   "cell_type": "code",
   "execution_count": 106,
   "metadata": {},
   "outputs": [],
   "source": [
    "sell_df = sell_df[~sell_df['price_mode'].isin(['توافقی', 'مجانی'])]"
   ]
  },
  {
   "cell_type": "code",
   "execution_count": 108,
   "metadata": {},
   "outputs": [],
   "source": [
    "sell_df = sell_df[(sell_df['price_value'].notna()) & (sell_df['price_value'] >= 1000000000)]"
   ]
  },
  {
   "cell_type": "code",
   "execution_count": 110,
   "metadata": {},
   "outputs": [],
   "source": [
    "low = sell_df['price_value'].quantile(0.10)\n",
    "high = sell_df['price_value'].quantile(0.90)\n",
    "\n",
    "sell_df = sell_df[(sell_df['price_value'] >= low) & (sell_df['price_value'] <= high)]"
   ]
  },
  {
   "cell_type": "code",
   "execution_count": 115,
   "metadata": {},
   "outputs": [],
   "source": [
    "sell_df = sell_df.drop(['price_mode'], axis=1)"
   ]
  },
  {
   "cell_type": "code",
   "execution_count": 116,
   "metadata": {},
   "outputs": [
    {
     "data": {
      "text/plain": [
       "<bound method DataFrame.info of         Unnamed: 0     created_at_month   price_value  land_size    deed_type  \\\n",
       "1                1  2024-05-01 00:00:00  8.500000e+09        NaN          NaN   \n",
       "4                4  2024-05-01 00:00:00  5.750000e+09        NaN  single_page   \n",
       "7                7  2024-09-01 00:00:00  8.700000e+09        NaN          NaN   \n",
       "9                9  2024-10-01 00:00:00  3.000000e+09        NaN          NaN   \n",
       "10              10  2024-11-01 00:00:00  2.600000e+09        NaN        other   \n",
       "...            ...                  ...           ...        ...          ...   \n",
       "999990      999990  2024-09-01 00:00:00  4.000000e+09        NaN          NaN   \n",
       "999991      999991  2024-12-01 00:00:00  3.600000e+09        NaN  single_page   \n",
       "999992      999992  2024-11-01 00:00:00  4.350000e+09        NaN  single_page   \n",
       "999995      999995  2024-07-01 00:00:00  7.470000e+09        NaN          NaN   \n",
       "999997      999997  2024-11-01 00:00:00  3.200000e+09      200.0          NaN   \n",
       "\n",
       "       has_business_deed floor  has_system_columns  has_luxury_features  \\\n",
       "1                    NaN     3                   0                False   \n",
       "4                    NaN     4                   3                False   \n",
       "7                    NaN     4                   0                False   \n",
       "9                    NaN     3                   0                False   \n",
       "10                   NaN     4                   3                False   \n",
       "...                  ...   ...                 ...                  ...   \n",
       "999990               NaN   1.0                   0                False   \n",
       "999991               NaN   4.0                   3                False   \n",
       "999992               NaN   2.0                   3                False   \n",
       "999995               NaN   4.0                   0                False   \n",
       "999997               NaN   NaN                   0                False   \n",
       "\n",
       "       infrastructure_score  ... dir_south  dir_west  dir_نامشخص  \\\n",
       "1                         0  ...     False     False        True   \n",
       "4                         0  ...     False     False       False   \n",
       "7                         0  ...     False     False        True   \n",
       "9                         0  ...     False     False        True   \n",
       "10                        0  ...     False     False       False   \n",
       "...                     ...  ...       ...       ...         ...   \n",
       "999990                    0  ...     False     False        True   \n",
       "999991                    0  ...     False     False       False   \n",
       "999992                    0  ...      True     False       False   \n",
       "999995                    0  ...     False     False        True   \n",
       "999997                    0  ...     False     False        True   \n",
       "\n",
       "        effective_age  floor_material_rank  deal_type        target  \\\n",
       "1                 NaN                    0        1.0  8.500000e+09   \n",
       "4                 NaN                    2        1.0  5.750000e+09   \n",
       "7                 NaN                    0        1.0  8.700000e+09   \n",
       "9                16.0                    2        1.0  3.000000e+09   \n",
       "10                  0                    2        1.0  2.600000e+09   \n",
       "...               ...                  ...        ...           ...   \n",
       "999990            NaN                    0        1.0  4.000000e+09   \n",
       "999991            5.0                    5        1.0  3.600000e+09   \n",
       "999992            2.0                    2        1.0  4.350000e+09   \n",
       "999995            NaN                    0        1.0  7.470000e+09   \n",
       "999997            NaN                    0        1.0  3.200000e+09   \n",
       "\n",
       "       location_encoded  user_type_encoded  property_type_encoded  \n",
       "1                  1322                  1                      4  \n",
       "4                   670                  1                      4  \n",
       "7                  1279                  1                      4  \n",
       "9                   676                  2                      4  \n",
       "10                  822                  2                      4  \n",
       "...                 ...                ...                    ...  \n",
       "999990             1574                  1                      4  \n",
       "999991             1456                  2                      4  \n",
       "999992              189                  2                      4  \n",
       "999995              549                  1                      4  \n",
       "999997             1580                  2                      4  \n",
       "\n",
       "[383570 rows x 24 columns]>"
      ]
     },
     "execution_count": 116,
     "metadata": {},
     "output_type": "execute_result"
    }
   ],
   "source": [
    "sell_df.shape\n",
    "sell_df.info"
   ]
  },
  {
   "cell_type": "code",
   "execution_count": 129,
   "metadata": {},
   "outputs": [
    {
     "data": {
      "text/plain": [
       "<bound method NDFrame.describe of         Unnamed: 0     created_at_month   price_value  land_size floor  \\\n",
       "1                1  2024-05-01 00:00:00  8.500000e+09        NaN     3   \n",
       "4                4  2024-05-01 00:00:00  5.750000e+09        NaN     4   \n",
       "7                7  2024-09-01 00:00:00  8.700000e+09        NaN     4   \n",
       "9                9  2024-10-01 00:00:00  3.000000e+09        NaN     3   \n",
       "10              10  2024-11-01 00:00:00  2.600000e+09        NaN     4   \n",
       "...            ...                  ...           ...        ...   ...   \n",
       "999990      999990  2024-09-01 00:00:00  4.000000e+09        NaN   1.0   \n",
       "999991      999991  2024-12-01 00:00:00  3.600000e+09        NaN   4.0   \n",
       "999992      999992  2024-11-01 00:00:00  4.350000e+09        NaN   2.0   \n",
       "999995      999995  2024-07-01 00:00:00  7.470000e+09        NaN   4.0   \n",
       "999997      999997  2024-11-01 00:00:00  3.200000e+09      200.0   NaN   \n",
       "\n",
       "        has_system_columns  has_luxury_features infrastructure_score  \\\n",
       "1                        0                False                    0   \n",
       "4                        3                False                    0   \n",
       "7                        0                False                    0   \n",
       "9                        0                False                    0   \n",
       "10                       3                False                    0   \n",
       "...                    ...                  ...                  ...   \n",
       "999990                   0                False                    0   \n",
       "999991                   3                False                    0   \n",
       "999992                   3                False                    0   \n",
       "999995                   0                False                    0   \n",
       "999997                   0                False                    0   \n",
       "\n",
       "       facility_score  density_per_floor  ...  dir_نامشخص  effective_age  \\\n",
       "1                   3                0.2  ...        True            NaN   \n",
       "4                   3           0.166667  ...       False            NaN   \n",
       "7                   3               0.25  ...        True            NaN   \n",
       "9                   1                0.2  ...        True           16.0   \n",
       "10                  3                0.2  ...       False              0   \n",
       "...               ...                ...  ...         ...            ...   \n",
       "999990              3                0.2  ...        True            NaN   \n",
       "999991              2               0.25  ...       False            5.0   \n",
       "999992              3                0.2  ...       False            2.0   \n",
       "999995              3                0.2  ...        True            NaN   \n",
       "999997              2                0.2  ...        True            NaN   \n",
       "\n",
       "        floor_material_rank  deal_type        target location_encoded  \\\n",
       "1                         0        1.0  8.500000e+09             1322   \n",
       "4                         2        1.0  5.750000e+09              670   \n",
       "7                         0        1.0  8.700000e+09             1279   \n",
       "9                         2        1.0  3.000000e+09              676   \n",
       "10                        2        1.0  2.600000e+09              822   \n",
       "...                     ...        ...           ...              ...   \n",
       "999990                    0        1.0  4.000000e+09             1574   \n",
       "999991                    5        1.0  3.600000e+09             1456   \n",
       "999992                    2        1.0  4.350000e+09              189   \n",
       "999995                    0        1.0  7.470000e+09              549   \n",
       "999997                    0        1.0  3.200000e+09             1580   \n",
       "\n",
       "        user_type_encoded  property_type_encoded  deed_type_encoded  \\\n",
       "1                       1                      4                  3   \n",
       "4                       1                      4                  1   \n",
       "7                       1                      4                  3   \n",
       "9                       2                      4                  3   \n",
       "10                      2                      4                  3   \n",
       "...                   ...                    ...                ...   \n",
       "999990                  1                      4                  3   \n",
       "999991                  2                      4                  1   \n",
       "999992                  2                      4                  1   \n",
       "999995                  1                      4                  3   \n",
       "999997                  2                      4                  3   \n",
       "\n",
       "        has_business_deed_encoded  \n",
       "1                               1  \n",
       "4                               1  \n",
       "7                               1  \n",
       "9                               1  \n",
       "10                              1  \n",
       "...                           ...  \n",
       "999990                          1  \n",
       "999991                          1  \n",
       "999992                          1  \n",
       "999995                          1  \n",
       "999997                          1  \n",
       "\n",
       "[383570 rows x 24 columns]>"
      ]
     },
     "execution_count": 129,
     "metadata": {},
     "output_type": "execute_result"
    }
   ],
   "source": [
    "sell_df.describe"
   ]
  },
  {
   "cell_type": "code",
   "execution_count": 121,
   "metadata": {},
   "outputs": [],
   "source": [
    "sell_df['deed_type'] = sell_df['deed_type'].replace('other', np.nan)\n",
    "sell_df['deed_type'] = sell_df['deed_type'].replace('unselect', np.nan)"
   ]
  },
  {
   "cell_type": "code",
   "execution_count": 122,
   "metadata": {},
   "outputs": [],
   "source": [
    "le = LabelEncoder()\n",
    "sell_df['deed_type_encoded'] = le.fit_transform(sell_df['deed_type'])"
   ]
  },
  {
   "cell_type": "code",
   "execution_count": 123,
   "metadata": {},
   "outputs": [
    {
     "name": "stdout",
     "output_type": "stream",
     "text": [
      "deed_type_encoded\n",
      "3    202266\n",
      "1    156046\n",
      "2     20330\n",
      "0      4928\n",
      "Name: count, dtype: int64\n"
     ]
    }
   ],
   "source": [
    "print(sell_df['deed_type_encoded'].value_counts())"
   ]
  },
  {
   "cell_type": "code",
   "execution_count": 126,
   "metadata": {},
   "outputs": [],
   "source": [
    "\n",
    "sell_df['has_business_deed'] = sell_df['has_business_deed'].replace(False, np.nan)\n",
    "\n",
    "le = LabelEncoder()\n",
    "sell_df['has_business_deed_encoded'] = le.fit_transform(sell_df['has_business_deed'])"
   ]
  },
  {
   "cell_type": "code",
   "execution_count": 127,
   "metadata": {},
   "outputs": [
    {
     "name": "stdout",
     "output_type": "stream",
     "text": [
      "has_business_deed_encoded\n",
      "1    375263\n",
      "0      8307\n",
      "Name: count, dtype: int64\n"
     ]
    }
   ],
   "source": [
    "print(sell_df['has_business_deed_encoded'].value_counts())"
   ]
  },
  {
   "cell_type": "code",
   "execution_count": 128,
   "metadata": {},
   "outputs": [],
   "source": [
    "sell_df = sell_df.drop(['has_business_deed', 'deed_type'], axis=1)"
   ]
  },
  {
   "cell_type": "code",
   "execution_count": 143,
   "metadata": {},
   "outputs": [
    {
     "name": "stdout",
     "output_type": "stream",
     "text": [
      "Unnamed: 0: int64\n",
      "created_at_month: object\n",
      "price_value: float64\n",
      "land_size: float64\n",
      "floor: Int64\n",
      "has_system_columns: int64\n",
      "has_luxury_features: bool\n",
      "infrastructure_score: Int64\n",
      "facility_score: Int64\n",
      "density_per_floor: Float64\n",
      "dir_east: bool\n",
      "dir_north: bool\n",
      "dir_south: bool\n",
      "dir_west: bool\n",
      "dir_نامشخص: bool\n",
      "effective_age: Int64\n",
      "floor_material_rank: int64\n",
      "deal_type: float64\n",
      "target: float64\n",
      "location_encoded: int64\n",
      "user_type_encoded: int64\n",
      "property_type_encoded: int64\n",
      "deed_type_encoded: int64\n",
      "has_business_deed_encoded: int64\n",
      "ad_year: int32\n",
      "adjusted_price: float64\n"
     ]
    }
   ],
   "source": [
    "for col in sell_df.columns:\n",
    "    print(f\"{col}: {sell_df[col].dtype}\")"
   ]
  },
  {
   "cell_type": "code",
   "execution_count": 135,
   "metadata": {},
   "outputs": [],
   "source": [
    "sell_df['infrastructure_score'] = pd.to_numeric(sell_df['infrastructure_score'], errors='coerce').astype('Int64')\n",
    "sell_df['effective_age'] = pd.to_numeric(sell_df['effective_age'], errors='coerce').astype('Int64')\n",
    "sell_df['facility_score'] = pd.to_numeric(sell_df['facility_score'], errors='coerce').astype('Int64')"
   ]
  },
  {
   "cell_type": "code",
   "execution_count": 137,
   "metadata": {},
   "outputs": [],
   "source": [
    "sell_df['floor'] = pd.to_numeric(sell_df['floor'], errors='coerce').astype('Int64')"
   ]
  },
  {
   "cell_type": "code",
   "execution_count": 140,
   "metadata": {},
   "outputs": [],
   "source": [
    "sell_df['ad_year'] = pd.to_datetime(sell_df['created_at_month']).dt.year"
   ]
  },
  {
   "cell_type": "code",
   "execution_count": 142,
   "metadata": {},
   "outputs": [],
   "source": [
    "\n",
    "\n",
    "# دیکشنری شاخص CPI با سال به عنوان کلید و مقدار CPI به عنوان مقدار\n",
    "cpi_dict = {\n",
    "    2020: 298.858,\n",
    "    2021: 437.042,\n",
    "    2022: 640.225,\n",
    "    2023: 934.324,\n",
    "    2024: 1000.0,\n",
    "}\n",
    "\n",
    "# سال پایه برای تعدیل (مثلا ۱۳۹۵)\n",
    "base_year = 2024\n",
    "base_cpi = cpi_dict[base_year]\n",
    "\n",
    "# تابع برای تعدیل قیمت بر اساس CPI\n",
    "def adjust_price(row):\n",
    "    year = row['ad_year']\n",
    "    price = row['price_value']\n",
    "    if pd.isna(year) or pd.isna(price):\n",
    "        return price  # اگر سال یا قیمت خالی بود، تغییر نده\n",
    "    if year not in cpi_dict:\n",
    "        return price  # اگر سال در دیکشنری نبود، تغییر نده\n",
    "    adjusted_price = price * (base_cpi / cpi_dict[year])\n",
    "    return adjusted_price\n",
    "\n",
    "# اعمال تابع روی دیتافریم و ایجاد ستون جدید\n",
    "sell_df['adjusted_price'] = sell_df.apply(adjust_price, axis=1)\n"
   ]
  },
  {
   "cell_type": "code",
   "execution_count": 144,
   "metadata": {},
   "outputs": [],
   "source": [
    "sell_df = sell_df.drop(['created_at_month', 'price_value', 'ad_year'], axis=1)"
   ]
  },
  {
   "cell_type": "code",
   "execution_count": 145,
   "metadata": {},
   "outputs": [],
   "source": [
    "features = sell_df.columns.drop('adjusted_price').tolist()\n"
   ]
  },
  {
   "cell_type": "code",
   "execution_count": 146,
   "metadata": {},
   "outputs": [],
   "source": [
    "from sklearn.model_selection import train_test_split\n",
    "from sklearn.ensemble import RandomForestRegressor\n",
    "from sklearn.metrics import mean_squared_error, r2_score"
   ]
  },
  {
   "cell_type": "code",
   "execution_count": 152,
   "metadata": {},
   "outputs": [],
   "source": [
    "sell_df['log_price'] = np.log1p(sell_df['adjusted_price'])"
   ]
  },
  {
   "cell_type": "code",
   "execution_count": 151,
   "metadata": {},
   "outputs": [],
   "source": [
    "features = sell_df.columns.drop('log_price','adjusted_price').tolist()"
   ]
  },
  {
   "cell_type": "code",
   "execution_count": 153,
   "metadata": {},
   "outputs": [
    {
     "name": "stdout",
     "output_type": "stream",
     "text": [
      "MSE: 28541778156472733696.00\n",
      "R2 score: -77313669012978139136.00\n"
     ]
    }
   ],
   "source": [
    "X = sell_df[features]\n",
    "y = sell_df['log_price']\n",
    "\n",
    "X_train, X_test, y_train, y_test = train_test_split(X, y, test_size=0.2, random_state=42)\n",
    "\n",
    "model = RandomForestRegressor(n_estimators=100, random_state=42)\n",
    "\n",
    "model.fit(X_train, y_train)\n",
    "\n",
    "y_pred_log = model.predict(X_test)\n",
    "\n",
    "# تبدیل پیش‌بینی‌ها به مقیاس اصلی قیمت\n",
    "y_pred = np.expm1(y_pred_log)\n",
    "y_true = np.expm1(y_test)\n",
    "\n",
    "mse = mean_squared_error(y_test, y_pred)\n",
    "r2 = r2_score(y_test, y_pred)\n",
    "\n",
    "print(f\"MSE: {mse:.2f}\")\n",
    "print(f\"R2 score: {r2:.2f}\")"
   ]
  }
 ],
 "metadata": {
  "kernelspec": {
   "display_name": "Quera",
   "language": "python",
   "name": "python3"
  },
  "language_info": {
   "codemirror_mode": {
    "name": "ipython",
    "version": 3
   },
   "file_extension": ".py",
   "mimetype": "text/x-python",
   "name": "python",
   "nbconvert_exporter": "python",
   "pygments_lexer": "ipython3",
   "version": "3.12.9"
  }
 },
 "nbformat": 4,
 "nbformat_minor": 2
}
