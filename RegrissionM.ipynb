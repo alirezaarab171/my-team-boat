{
 "cells": [
  {
   "cell_type": "code",
   "execution_count": 1,
   "metadata": {},
   "outputs": [],
   "source": [
    "import pandas as pd\n",
    "import numpy as np"
   ]
  },
  {
   "cell_type": "code",
   "execution_count": 2,
   "metadata": {},
   "outputs": [
    {
     "name": "stderr",
     "output_type": "stream",
     "text": [
      "C:\\Users\\Lenovo\\AppData\\Local\\Temp\\ipykernel_556\\3235132892.py:1: DtypeWarning: Columns (11,27,29,53) have mixed types. Specify dtype option on import or set low_memory=False.\n",
      "  divar_df = pd.read_csv('Divar.csv')\n",
      "C:\\Users\\Lenovo\\AppData\\Local\\Temp\\ipykernel_556\\3235132892.py:2: DtypeWarning: Columns (11,27,29,53) have mixed types. Specify dtype option on import or set low_memory=False.\n",
      "  df = pd.read_csv('Divar.csv')\n"
     ]
    }
   ],
   "source": [
    "divar_df = pd.read_csv('Divar.csv')\n",
    "df = pd.read_csv('Divar.csv')"
   ]
  },
  {
   "cell_type": "code",
   "execution_count": 4,
   "metadata": {},
   "outputs": [],
   "source": [
    "divar_df = divar_df.drop(['description', 'title', 'rent_to_single', 'rooms_count', 'has_balcony',], axis=1)\n",
    "\n",
    "\n"
   ]
  },
  {
   "cell_type": "code",
   "execution_count": 12,
   "metadata": {},
   "outputs": [],
   "source": [
    "\n",
    "divar_df = divar_df.drop(['has_barbecue'], axis=1)\n"
   ]
  },
  {
   "cell_type": "code",
   "execution_count": 52,
   "metadata": {},
   "outputs": [],
   "source": [
    "divar_df = divar_df.drop(['has_restroom'], axis=1)"
   ]
  },
  {
   "cell_type": "code",
   "execution_count": 11,
   "metadata": {},
   "outputs": [
    {
     "name": "stdout",
     "output_type": "stream",
     "text": [
      "has_heating_system\n",
      "shoofaj          201356\n",
      "heater           119771\n",
      "duct_split        22047\n",
      "floor_heating      7717\n",
      "split              5845\n",
      "fan_coil           5065\n",
      "fireplace          4050\n",
      "unselect           3118\n",
      "Name: count, dtype: int64\n"
     ]
    }
   ],
   "source": [
    "print(divar_df['has_heating_system'].value_counts())"
   ]
  },
  {
   "cell_type": "code",
   "execution_count": 5,
   "metadata": {},
   "outputs": [],
   "source": [
    "target_heating_syste = ['shoofaj', 'heater', 'duct_split', 'floor_heating', 'split', 'fan_coil' , 'fireplace','unselect' ]\n",
    "\n",
    "divar_df['has_heating_system'] = divar_df['has_heating_system'].isin(target_heating_syste).astype(int)"
   ]
  },
  {
   "cell_type": "code",
   "execution_count": 14,
   "metadata": {},
   "outputs": [
    {
     "name": "stdout",
     "output_type": "stream",
     "text": [
      "has_heating_system\n",
      "0    631031\n",
      "1    368969\n",
      "Name: count, dtype: int64\n"
     ]
    }
   ],
   "source": [
    "print(divar_df['has_heating_system'].value_counts())"
   ]
  },
  {
   "cell_type": "code",
   "execution_count": 15,
   "metadata": {},
   "outputs": [
    {
     "name": "stdout",
     "output_type": "stream",
     "text": [
      "has_cooling_system\n",
      "water_cooler       219266\n",
      "air_conditioner     52341\n",
      "split               38708\n",
      "duct_split          29373\n",
      "unselect             5917\n",
      "fan_coil             5014\n",
      "Name: count, dtype: int64\n"
     ]
    }
   ],
   "source": [
    "print(divar_df['has_cooling_system'].value_counts())"
   ]
  },
  {
   "cell_type": "code",
   "execution_count": 6,
   "metadata": {},
   "outputs": [],
   "source": [
    "target_cooling_system = ['water_cooler', 'air_conditioner', 'split', 'duct_split', 'unselect']\n",
    "\n",
    "divar_df['has_cooling_system'] = divar_df['has_cooling_system'].isin(target_cooling_system).astype(int)"
   ]
  },
  {
   "cell_type": "code",
   "execution_count": 17,
   "metadata": {},
   "outputs": [
    {
     "name": "stdout",
     "output_type": "stream",
     "text": [
      "has_cooling_system\n",
      "0    654395\n",
      "1    345605\n",
      "Name: count, dtype: int64\n"
     ]
    }
   ],
   "source": [
    "print(divar_df['has_cooling_system'].value_counts())"
   ]
  },
  {
   "cell_type": "code",
   "execution_count": 7,
   "metadata": {},
   "outputs": [
    {
     "name": "stdout",
     "output_type": "stream",
     "text": [
      "has_warm_water_provider\n",
      "package         205641\n",
      "water_heater    141082\n",
      "powerhouse       31395\n",
      "unselect          1382\n",
      "Name: count, dtype: int64\n"
     ]
    }
   ],
   "source": [
    "print(divar_df['has_warm_water_provider'].value_counts())"
   ]
  },
  {
   "cell_type": "code",
   "execution_count": 8,
   "metadata": {},
   "outputs": [],
   "source": [
    "target_warm_water_provider = ['package', 'water_heater', 'powerhouse', 'unselect']\n",
    "\n",
    "divar_df['has_warm_water_provider'] = divar_df['has_warm_water_provider'].isin(target_warm_water_provider).astype(int)"
   ]
  },
  {
   "cell_type": "code",
   "execution_count": 9,
   "metadata": {},
   "outputs": [
    {
     "name": "stdout",
     "output_type": "stream",
     "text": [
      "has_warm_water_provider\n",
      "0    620500\n",
      "1    379500\n",
      "Name: count, dtype: int64\n"
     ]
    }
   ],
   "source": [
    "print(divar_df['has_warm_water_provider'].value_counts())"
   ]
  },
  {
   "cell_type": "code",
   "execution_count": 10,
   "metadata": {},
   "outputs": [],
   "source": [
    "divar_df['has_system_columns'] = divar_df['has_cooling_system'] + divar_df['has_heating_system'] + divar_df['has_warm_water_provider']"
   ]
  },
  {
   "cell_type": "code",
   "execution_count": 11,
   "metadata": {},
   "outputs": [
    {
     "name": "stdout",
     "output_type": "stream",
     "text": [
      "has_system_columns\n",
      "0    600696\n",
      "3    318702\n",
      "2     57366\n",
      "1     23236\n",
      "Name: count, dtype: int64\n"
     ]
    }
   ],
   "source": [
    "print(divar_df['has_system_columns'].value_counts())"
   ]
  },
  {
   "cell_type": "code",
   "execution_count": 13,
   "metadata": {},
   "outputs": [
    {
     "name": "stdout",
     "output_type": "stream",
     "text": [
      "has_security_guard\n",
      "False    24631\n",
      "True      6681\n",
      "Name: count, dtype: int64\n"
     ]
    }
   ],
   "source": [
    "print(divar_df['has_security_guard'].value_counts())"
   ]
  },
  {
   "cell_type": "code",
   "execution_count": 15,
   "metadata": {},
   "outputs": [],
   "source": [
    "luxury_columns = ['has_pool', 'has_sauna', 'has_jacuzzi', 'has_security_guard']\n",
    "\n",
    "divar_df['has_luxury_features'] = divar_df[luxury_columns].any(axis=1)\n",
    "\n",
    "divar_df = divar_df.drop(columns=luxury_columns)"
   ]
  },
  {
   "cell_type": "code",
   "execution_count": 16,
   "metadata": {},
   "outputs": [
    {
     "name": "stdout",
     "output_type": "stream",
     "text": [
      "has_luxury_features\n",
      "False    991767\n",
      "True       8233\n",
      "Name: count, dtype: int64\n"
     ]
    }
   ],
   "source": [
    "print(divar_df['has_luxury_features'].value_counts())"
   ]
  },
  {
   "cell_type": "code",
   "execution_count": 17,
   "metadata": {},
   "outputs": [],
   "source": [
    "infra_cols = ['has_water', 'has_electricity', 'has_gas']\n",
    "divar_df['infrastructure_score'] = divar_df[infra_cols].sum(axis=1)\n",
    "divar_df = divar_df.drop(columns=infra_cols)"
   ]
  },
  {
   "cell_type": "code",
   "execution_count": 18,
   "metadata": {},
   "outputs": [
    {
     "data": {
      "text/plain": [
       "<bound method DataFrame.info of         Unnamed: 0         cat2_slug         cat3_slug      city_slug  \\\n",
       "0                0    temporary-rent             villa          karaj   \n",
       "1                1  residential-sell    apartment-sell         tehran   \n",
       "2                2  residential-rent    apartment-rent         tehran   \n",
       "3                3   commercial-rent       office-rent         tehran   \n",
       "4                4  residential-sell    apartment-sell        mashhad   \n",
       "...            ...               ...               ...            ...   \n",
       "999995      999995  residential-sell    apartment-sell     kermanshah   \n",
       "999996      999996  residential-rent    apartment-rent         tehran   \n",
       "999997      999997  residential-sell  house-villa-sell           yazd   \n",
       "999998      999998    temporary-rent   suite-apartment  bandar-anzali   \n",
       "999999      999999  residential-rent    apartment-rent         tehran   \n",
       "\n",
       "       neighborhood_slug     created_at_month    user_type rent_mode  \\\n",
       "0              mehrshahr  2024-08-01 00:00:00  مشاور املاک       NaN   \n",
       "1                gholhak  2024-05-01 00:00:00  مشاور املاک       NaN   \n",
       "2                  tohid  2024-10-01 00:00:00          NaN     مقطوع   \n",
       "3               elahiyeh  2024-06-01 00:00:00          NaN     مقطوع   \n",
       "4               emamreza  2024-05-01 00:00:00  مشاور املاک       NaN   \n",
       "...                  ...                  ...          ...       ...   \n",
       "999995               NaN  2024-07-01 00:00:00  مشاور املاک       NaN   \n",
       "999996             darya  2024-07-01 00:00:00  مشاور املاک     مقطوع   \n",
       "999997               NaN  2024-11-01 00:00:00          NaN       NaN   \n",
       "999998               NaN  2024-09-01 00:00:00          NaN       NaN   \n",
       "999999           jeyhoun  2024-08-01 00:00:00  مشاور املاک     مجانی   \n",
       "\n",
       "        rent_value    rent_type  ... cost_per_extra_person  \\\n",
       "0              NaN          NaN  ...              350000.0   \n",
       "1              NaN          NaN  ...                   NaN   \n",
       "2       26000000.0          NaN  ...                   NaN   \n",
       "3       95000000.0          NaN  ...                   NaN   \n",
       "4              NaN          NaN  ...                   NaN   \n",
       "...            ...          ...  ...                   ...   \n",
       "999995         NaN          NaN  ...                   NaN   \n",
       "999996  45000000.0  rent_credit  ...                   NaN   \n",
       "999997         NaN          NaN  ...                   NaN   \n",
       "999998         NaN          NaN  ...                   NaN   \n",
       "999999         0.0  rent_credit  ...                   NaN   \n",
       "\n",
       "        rent_price_on_regular_days rent_price_on_special_days  \\\n",
       "0                        1500000.0               3.500000e+09   \n",
       "1                              NaN                        NaN   \n",
       "2                              NaN                        NaN   \n",
       "3                              NaN                        NaN   \n",
       "4                              NaN                        NaN   \n",
       "...                            ...                        ...   \n",
       "999995                         NaN                        NaN   \n",
       "999996                         NaN                        NaN   \n",
       "999997                         NaN                        NaN   \n",
       "999998                   3000000.0                        NaN   \n",
       "999999                         NaN                        NaN   \n",
       "\n",
       "        rent_price_at_weekends location_latitude location_longitude  \\\n",
       "0                    3500000.0         35.811684          50.936600   \n",
       "1                          NaN               NaN                NaN   \n",
       "2                          NaN         35.703865          51.373459   \n",
       "3                          NaN               NaN                NaN   \n",
       "4                          NaN               NaN                NaN   \n",
       "...                        ...               ...                ...   \n",
       "999995                     NaN         34.350235          47.083241   \n",
       "999996                     NaN         35.770454          51.369099   \n",
       "999997                     NaN               NaN                NaN   \n",
       "999998                     NaN         37.483501          49.438721   \n",
       "999999                     NaN         35.680767          51.365299   \n",
       "\n",
       "        location_radius  has_system_columns  has_luxury_features  \\\n",
       "0                 500.0                   0                False   \n",
       "1                 500.0                   0                False   \n",
       "2                   NaN                   0                False   \n",
       "3                   NaN                   0                False   \n",
       "4                   NaN                   3                False   \n",
       "...                 ...                 ...                  ...   \n",
       "999995            500.0                   0                False   \n",
       "999996            500.0                   0                False   \n",
       "999997              NaN                   0                False   \n",
       "999998              NaN                   0                False   \n",
       "999999            500.0                   3                False   \n",
       "\n",
       "        infrastructure_score  \n",
       "0                          0  \n",
       "1                          0  \n",
       "2                          0  \n",
       "3                          0  \n",
       "4                          0  \n",
       "...                      ...  \n",
       "999995                     0  \n",
       "999996                     0  \n",
       "999997                     0  \n",
       "999998                     0  \n",
       "999999                     0  \n",
       "\n",
       "[1000000 rows x 51 columns]>"
      ]
     },
     "execution_count": 18,
     "metadata": {},
     "output_type": "execute_result"
    }
   ],
   "source": [
    "divar_df.shape\n",
    "divar_df.info"
   ]
  },
  {
   "cell_type": "code",
   "execution_count": 19,
   "metadata": {},
   "outputs": [],
   "source": [
    "facility_score = ['has_parking', 'has_elevator', 'has_warehouse']\n",
    "divar_df['facility_score'] = divar_df[facility_score].sum(axis=1)\n",
    "divar_df = divar_df.drop(columns=facility_score)"
   ]
  },
  {
   "cell_type": "code",
   "execution_count": 20,
   "metadata": {},
   "outputs": [],
   "source": [
    "divar_df['total_floors_count'] = pd.to_numeric(divar_df['total_floors_count'], errors='coerce')"
   ]
  },
  {
   "cell_type": "code",
   "execution_count": 21,
   "metadata": {},
   "outputs": [
    {
     "name": "stdout",
     "output_type": "stream",
     "text": [
      "696006\n"
     ]
    }
   ],
   "source": [
    "nan_counts = divar_df['total_floors_count'].isna().sum()\n",
    "\n",
    "# نمایش نتایج\n",
    "print(nan_counts)"
   ]
  },
  {
   "cell_type": "code",
   "execution_count": 23,
   "metadata": {},
   "outputs": [],
   "source": [
    "divar_df['total_floors_count'] = divar_df.groupby(['city_slug', 'neighborhood_slug'])['total_floors_count'].transform(\n",
    "    lambda x: x.fillna(x.mean())\n",
    ")"
   ]
  },
  {
   "cell_type": "code",
   "execution_count": 24,
   "metadata": {},
   "outputs": [],
   "source": [
    "mask = divar_df['total_floors_count'].isna()\n",
    "\n",
    "divar_df.loc[mask, 'total_floors_count'] = divar_df.groupby('city_slug')['total_floors_count'].transform(\n",
    "    lambda x: x.fillna(x.mean())\n",
    ")[mask]"
   ]
  },
  {
   "cell_type": "code",
   "execution_count": 25,
   "metadata": {},
   "outputs": [
    {
     "name": "stderr",
     "output_type": "stream",
     "text": [
      "C:\\Users\\Lenovo\\AppData\\Local\\Temp\\ipykernel_556\\3948902769.py:1: FutureWarning: A value is trying to be set on a copy of a DataFrame or Series through chained assignment using an inplace method.\n",
      "The behavior will change in pandas 3.0. This inplace method will never work because the intermediate object on which we are setting values always behaves as a copy.\n",
      "\n",
      "For example, when doing 'df[col].method(value, inplace=True)', try using 'df.method({col: value}, inplace=True)' or df[col] = df[col].method(value) instead, to perform the operation inplace on the original object.\n",
      "\n",
      "\n",
      "  divar_df['total_floors_count'].fillna(divar_df['total_floors_count'].mean(), inplace=True)\n"
     ]
    }
   ],
   "source": [
    "divar_df['total_floors_count'].fillna(divar_df['total_floors_count'].mean(), inplace=True)"
   ]
  },
  {
   "cell_type": "code",
   "execution_count": 26,
   "metadata": {},
   "outputs": [],
   "source": [
    "divar_df['total_floors_count'] = divar_df['total_floors_count'].round().astype('Int64')"
   ]
  },
  {
   "cell_type": "code",
   "execution_count": 27,
   "metadata": {},
   "outputs": [],
   "source": [
    "divar_df['unit_per_floor'] = pd.to_numeric(divar_df['unit_per_floor'], errors='coerce')"
   ]
  },
  {
   "cell_type": "code",
   "execution_count": 28,
   "metadata": {},
   "outputs": [],
   "source": [
    "divar_df['unit_per_floor'] = divar_df.groupby(['city_slug', 'neighborhood_slug'])['unit_per_floor'].transform(\n",
    "    lambda x: x.fillna(x.mean())\n",
    ")"
   ]
  },
  {
   "cell_type": "code",
   "execution_count": 29,
   "metadata": {},
   "outputs": [],
   "source": [
    "mask = divar_df['unit_per_floor'].isna()\n",
    "\n",
    "divar_df.loc[mask, 'unit_per_floor'] = divar_df.groupby('city_slug')['unit_per_floor'].transform(\n",
    "    lambda x: x.fillna(x.mean())\n",
    ")[mask]"
   ]
  },
  {
   "cell_type": "code",
   "execution_count": 30,
   "metadata": {},
   "outputs": [
    {
     "name": "stderr",
     "output_type": "stream",
     "text": [
      "C:\\Users\\Lenovo\\AppData\\Local\\Temp\\ipykernel_556\\1761935966.py:1: FutureWarning: A value is trying to be set on a copy of a DataFrame or Series through chained assignment using an inplace method.\n",
      "The behavior will change in pandas 3.0. This inplace method will never work because the intermediate object on which we are setting values always behaves as a copy.\n",
      "\n",
      "For example, when doing 'df[col].method(value, inplace=True)', try using 'df.method({col: value}, inplace=True)' or df[col] = df[col].method(value) instead, to perform the operation inplace on the original object.\n",
      "\n",
      "\n",
      "  divar_df['unit_per_floor'].fillna(divar_df['unit_per_floor'].mean(), inplace=True)\n"
     ]
    }
   ],
   "source": [
    "divar_df['unit_per_floor'].fillna(divar_df['unit_per_floor'].mean(), inplace=True)"
   ]
  },
  {
   "cell_type": "code",
   "execution_count": 31,
   "metadata": {},
   "outputs": [],
   "source": [
    "divar_df['unit_per_floor'] = divar_df['unit_per_floor'].round().astype('Int64')"
   ]
  },
  {
   "cell_type": "code",
   "execution_count": 32,
   "metadata": {},
   "outputs": [],
   "source": [
    "divar_df['total_units'] = divar_df['total_floors_count'] * divar_df['unit_per_floor']\n",
    "divar_df['density_per_floor'] = divar_df['unit_per_floor'] / divar_df['total_units']\n"
   ]
  },
  {
   "cell_type": "code",
   "execution_count": 33,
   "metadata": {},
   "outputs": [],
   "source": [
    "divar_df = divar_df.drop(columns=['total_units', 'unit_per_floor'])"
   ]
  },
  {
   "cell_type": "code",
   "execution_count": 34,
   "metadata": {},
   "outputs": [
    {
     "name": "stdout",
     "output_type": "stream",
     "text": [
      "building_direction\n",
      "south       159453\n",
      "north       142009\n",
      "east         12111\n",
      "west          7143\n",
      "unselect      3207\n",
      "Name: count, dtype: int64\n"
     ]
    }
   ],
   "source": [
    "print(divar_df['building_direction'].value_counts())"
   ]
  },
  {
   "cell_type": "code",
   "execution_count": 35,
   "metadata": {},
   "outputs": [],
   "source": [
    "divar_df['building_direction'] = divar_df['building_direction'].fillna('نامشخص')\n",
    "divar_df.loc[divar_df['building_direction'] == 'unselect', 'building_direction'] = 'نامشخص'\n"
   ]
  },
  {
   "cell_type": "code",
   "execution_count": 36,
   "metadata": {},
   "outputs": [],
   "source": [
    "\n",
    "divar_df = pd.get_dummies(divar_df, columns=['building_direction'], prefix='dir')"
   ]
  },
  {
   "cell_type": "code",
   "execution_count": 37,
   "metadata": {},
   "outputs": [
    {
     "data": {
      "text/plain": [
       "<bound method DataFrame.info of         Unnamed: 0         cat2_slug         cat3_slug      city_slug  \\\n",
       "0                0    temporary-rent             villa          karaj   \n",
       "1                1  residential-sell    apartment-sell         tehran   \n",
       "2                2  residential-rent    apartment-rent         tehran   \n",
       "3                3   commercial-rent       office-rent         tehran   \n",
       "4                4  residential-sell    apartment-sell        mashhad   \n",
       "...            ...               ...               ...            ...   \n",
       "999995      999995  residential-sell    apartment-sell     kermanshah   \n",
       "999996      999996  residential-rent    apartment-rent         tehran   \n",
       "999997      999997  residential-sell  house-villa-sell           yazd   \n",
       "999998      999998    temporary-rent   suite-apartment  bandar-anzali   \n",
       "999999      999999  residential-rent    apartment-rent         tehran   \n",
       "\n",
       "       neighborhood_slug     created_at_month    user_type rent_mode  \\\n",
       "0              mehrshahr  2024-08-01 00:00:00  مشاور املاک       NaN   \n",
       "1                gholhak  2024-05-01 00:00:00  مشاور املاک       NaN   \n",
       "2                  tohid  2024-10-01 00:00:00          NaN     مقطوع   \n",
       "3               elahiyeh  2024-06-01 00:00:00          NaN     مقطوع   \n",
       "4               emamreza  2024-05-01 00:00:00  مشاور املاک       NaN   \n",
       "...                  ...                  ...          ...       ...   \n",
       "999995               NaN  2024-07-01 00:00:00  مشاور املاک       NaN   \n",
       "999996             darya  2024-07-01 00:00:00  مشاور املاک     مقطوع   \n",
       "999997               NaN  2024-11-01 00:00:00          NaN       NaN   \n",
       "999998               NaN  2024-09-01 00:00:00          NaN       NaN   \n",
       "999999           jeyhoun  2024-08-01 00:00:00  مشاور املاک     مجانی   \n",
       "\n",
       "        rent_value    rent_type  ... has_system_columns  has_luxury_features  \\\n",
       "0              NaN          NaN  ...                  0                False   \n",
       "1              NaN          NaN  ...                  0                False   \n",
       "2       26000000.0          NaN  ...                  0                False   \n",
       "3       95000000.0          NaN  ...                  0                False   \n",
       "4              NaN          NaN  ...                  3                False   \n",
       "...            ...          ...  ...                ...                  ...   \n",
       "999995         NaN          NaN  ...                  0                False   \n",
       "999996  45000000.0  rent_credit  ...                  0                False   \n",
       "999997         NaN          NaN  ...                  0                False   \n",
       "999998         NaN          NaN  ...                  0                False   \n",
       "999999         0.0  rent_credit  ...                  3                False   \n",
       "\n",
       "       infrastructure_score  facility_score density_per_floor dir_east  \\\n",
       "0                         0               0              0.25    False   \n",
       "1                         0               3               0.2    False   \n",
       "2                         0               3              0.25    False   \n",
       "3                         0               2             0.125    False   \n",
       "4                         0               3          0.166667    False   \n",
       "...                     ...             ...               ...      ...   \n",
       "999995                    0               3               0.2    False   \n",
       "999996                    0               3               0.2    False   \n",
       "999997                    0               2               0.2    False   \n",
       "999998                    0               0               0.2    False   \n",
       "999999                    0               0             0.125    False   \n",
       "\n",
       "        dir_north  dir_south  dir_west  dir_نامشخص  \n",
       "0           False      False     False        True  \n",
       "1           False      False     False        True  \n",
       "2           False      False     False        True  \n",
       "3           False      False     False        True  \n",
       "4            True      False     False       False  \n",
       "...           ...        ...       ...         ...  \n",
       "999995      False      False     False        True  \n",
       "999996      False      False     False        True  \n",
       "999997      False      False     False        True  \n",
       "999998      False      False     False        True  \n",
       "999999      False      False     False        True  \n",
       "\n",
       "[1000000 rows x 53 columns]>"
      ]
     },
     "execution_count": 37,
     "metadata": {},
     "output_type": "execute_result"
    }
   ],
   "source": [
    "divar_df.shape\n",
    "divar_df.info"
   ]
  },
  {
   "cell_type": "code",
   "execution_count": 38,
   "metadata": {},
   "outputs": [],
   "source": [
    "divar_df['ad_year'] = pd.to_datetime(divar_df['created_at_month']).dt.year"
   ]
  },
  {
   "cell_type": "code",
   "execution_count": 39,
   "metadata": {},
   "outputs": [
    {
     "name": "stdout",
     "output_type": "stream",
     "text": [
      "ad_year\n",
      "2024    996946\n",
      "2023      1689\n",
      "2025      1292\n",
      "2022        65\n",
      "2021         6\n",
      "2020         2\n",
      "Name: count, dtype: int64\n"
     ]
    }
   ],
   "source": [
    "print(divar_df['ad_year'].value_counts())"
   ]
  },
  {
   "cell_type": "code",
   "execution_count": 40,
   "metadata": {},
   "outputs": [],
   "source": [
    "def convert_persian_digits(text):\n",
    "    persian_digits = '۰۱۲۳۴۵۶۷۸۹'\n",
    "    english_digits = '0123456789'\n",
    "    translation_table = str.maketrans(persian_digits, english_digits)\n",
    "    return str(text).translate(translation_table)"
   ]
  },
  {
   "cell_type": "code",
   "execution_count": 41,
   "metadata": {},
   "outputs": [],
   "source": [
    "divar_df['construction_year'] = divar_df['construction_year'].apply(convert_persian_digits)\n",
    "\n",
    "\n",
    "divar_df['construction_year'] = pd.to_numeric(divar_df['construction_year'], errors='coerce')"
   ]
  },
  {
   "cell_type": "code",
   "execution_count": 42,
   "metadata": {},
   "outputs": [
    {
     "name": "stdout",
     "output_type": "stream",
     "text": [
      "construction_year\n",
      "1403.0    116260\n",
      "1390.0     59139\n",
      "1402.0     58424\n",
      "1400.0     53674\n",
      "1395.0     53029\n",
      "1398.0     38207\n",
      "1397.0     36326\n",
      "1396.0     35487\n",
      "1401.0     35328\n",
      "1385.0     34065\n",
      "1399.0     29594\n",
      "1393.0     29094\n",
      "1392.0     26130\n",
      "1394.0     26110\n",
      "1388.0     24268\n",
      "1380.0     23480\n",
      "1389.0     16755\n",
      "1391.0     16316\n",
      "1387.0     14136\n",
      "1386.0     13468\n",
      "1383.0      9894\n",
      "1384.0      8494\n",
      "1375.0      7247\n",
      "1382.0      6965\n",
      "1371.0      5531\n",
      "1381.0      3590\n",
      "1378.0      3025\n",
      "1379.0      2415\n",
      "1377.0      2117\n",
      "1372.0      1914\n",
      "1373.0      1827\n",
      "1376.0      1593\n",
      "1374.0      1289\n",
      "Name: count, dtype: int64\n"
     ]
    }
   ],
   "source": [
    "print(divar_df['construction_year'].value_counts())"
   ]
  },
  {
   "cell_type": "code",
   "execution_count": 43,
   "metadata": {},
   "outputs": [],
   "source": [
    "divar_df['ad_year'] = divar_df['ad_year'].round().astype('Int32')"
   ]
  },
  {
   "cell_type": "code",
   "execution_count": 44,
   "metadata": {},
   "outputs": [],
   "source": [
    "divar_df['building_age'] = divar_df['ad_year'] - divar_df['construction_year'] - 621\n",
    "divar_df['building_age'] = divar_df['building_age'].clip(lower=0)  "
   ]
  },
  {
   "cell_type": "code",
   "execution_count": 45,
   "metadata": {},
   "outputs": [],
   "source": [
    "divar_df = divar_df.drop('construction_year', axis=1)"
   ]
  },
  {
   "cell_type": "code",
   "execution_count": 46,
   "metadata": {},
   "outputs": [
    {
     "name": "stdout",
     "output_type": "stream",
     "text": [
      "building_age\n",
      "0.0     116310\n",
      "13.0     59091\n",
      "1.0      58447\n",
      "3.0      53558\n",
      "8.0      52991\n",
      "5.0      38204\n",
      "6.0      36311\n",
      "7.0      35510\n",
      "2.0      35309\n",
      "18.0     34039\n",
      "4.0      29629\n",
      "10.0     29074\n",
      "11.0     26152\n",
      "9.0      26150\n",
      "15.0     24255\n",
      "23.0     23449\n",
      "14.0     16787\n",
      "12.0     16342\n",
      "16.0     14147\n",
      "17.0     13479\n",
      "20.0      9887\n",
      "19.0      8516\n",
      "28.0      7239\n",
      "21.0      6969\n",
      "32.0      5523\n",
      "22.0      3615\n",
      "25.0      3025\n",
      "24.0      2427\n",
      "26.0      2116\n",
      "31.0      1918\n",
      "30.0      1825\n",
      "27.0      1599\n",
      "29.0      1295\n",
      "33.0         3\n",
      "Name: count, dtype: Int64\n"
     ]
    }
   ],
   "source": [
    "print(divar_df['building_age'].value_counts())"
   ]
  },
  {
   "cell_type": "code",
   "execution_count": 47,
   "metadata": {},
   "outputs": [],
   "source": [
    "divar_df['effective_age'] = divar_df['building_age'] - (divar_df['is_rebuilt'] * 10)\n",
    "divar_df['effective_age'] = divar_df['effective_age'].clip(lower=0) "
   ]
  },
  {
   "cell_type": "code",
   "execution_count": 48,
   "metadata": {},
   "outputs": [
    {
     "name": "stdout",
     "output_type": "stream",
     "text": [
      "effective_age\n",
      "0       142685\n",
      "3.0      40755\n",
      "8.0      34587\n",
      "1.0      34065\n",
      "13.0     30345\n",
      "5.0      25381\n",
      "2.0      21677\n",
      "6.0      21170\n",
      "7.0      20492\n",
      "4.0      19270\n",
      "10.0     16452\n",
      "9.0      14635\n",
      "18.0     14101\n",
      "11.0     13947\n",
      "15.0      9921\n",
      "23.0      8370\n",
      "12.0      8269\n",
      "14.0      7421\n",
      "16.0      5743\n",
      "17.0      5287\n",
      "20.0      3715\n",
      "19.0      3263\n",
      "21.0      2924\n",
      "28.0      2794\n",
      "22.0      2623\n",
      "32.0      2220\n",
      "25.0      1089\n",
      "24.0       933\n",
      "26.0       817\n",
      "31.0       770\n",
      "30.0       719\n",
      "27.0       614\n",
      "29.0       498\n",
      "33.0         2\n",
      "Name: count, dtype: int64\n"
     ]
    }
   ],
   "source": [
    "print(divar_df['effective_age'].value_counts())"
   ]
  },
  {
   "cell_type": "code",
   "execution_count": 49,
   "metadata": {},
   "outputs": [
    {
     "name": "stderr",
     "output_type": "stream",
     "text": [
      "C:\\Users\\Lenovo\\AppData\\Local\\Temp\\ipykernel_556\\476863760.py:1: FutureWarning: Downcasting object dtype arrays on .fillna, .ffill, .bfill is deprecated and will change in a future version. Call result.infer_objects(copy=False) instead. To opt-in to the future behavior, set `pd.set_option('future.no_silent_downcasting', True)`\n",
      "  divar_df['is_rebuilt'] = divar_df['is_rebuilt'].fillna(False).astype(int)\n"
     ]
    }
   ],
   "source": [
    "divar_df['is_rebuilt'] = divar_df['is_rebuilt'].fillna(False).astype(int)"
   ]
  },
  {
   "cell_type": "code",
   "execution_count": 50,
   "metadata": {},
   "outputs": [],
   "source": [
    "divar_df = divar_df.drop('is_rebuilt', axis=1)"
   ]
  },
  {
   "cell_type": "code",
   "execution_count": 53,
   "metadata": {},
   "outputs": [
    {
     "name": "stdout",
     "output_type": "stream",
     "text": [
      "floor_material\n",
      "ceramic             307821\n",
      "stone                38395\n",
      "carpet               17696\n",
      "mosaic               14611\n",
      "wood_parquet         14419\n",
      "laminate_parquet      9582\n",
      "floor_covering        1793\n",
      "unselect              1667\n",
      "Name: count, dtype: int64\n"
     ]
    }
   ],
   "source": [
    "print(divar_df['floor_material'].value_counts())"
   ]
  },
  {
   "cell_type": "code",
   "execution_count": 54,
   "metadata": {},
   "outputs": [],
   "source": [
    "material_rank = {\n",
    "    'carpet': 0,\n",
    "    'mosaic': 1,\n",
    "    'ceramic': 2,\n",
    "    'stone': 3,\n",
    "    'laminate_parquet': 4,\n",
    "    'wood_parquet': 5\n",
    "}"
   ]
  },
  {
   "cell_type": "code",
   "execution_count": 56,
   "metadata": {},
   "outputs": [],
   "source": [
    "divar_df['floor_material'] = divar_df['floor_material'].replace('floor_covering', np.nan)\n",
    "divar_df['floor_material'] = divar_df['floor_material'].replace('unselect', np.nan)"
   ]
  },
  {
   "cell_type": "code",
   "execution_count": 57,
   "metadata": {},
   "outputs": [],
   "source": [
    "divar_df['floor_material_rank'] = divar_df['floor_material'].map(material_rank)"
   ]
  },
  {
   "cell_type": "code",
   "execution_count": 58,
   "metadata": {},
   "outputs": [],
   "source": [
    "divar_df['floor_material_rank'] = divar_df['floor_material_rank'].fillna(0).astype(int)"
   ]
  },
  {
   "cell_type": "code",
   "execution_count": 59,
   "metadata": {},
   "outputs": [
    {
     "name": "stdout",
     "output_type": "stream",
     "text": [
      "floor_material_rank\n",
      "0    615172\n",
      "2    307821\n",
      "3     38395\n",
      "1     14611\n",
      "5     14419\n",
      "4      9582\n",
      "Name: count, dtype: int64\n"
     ]
    }
   ],
   "source": [
    "print(divar_df['floor_material_rank'].value_counts())"
   ]
  },
  {
   "cell_type": "code",
   "execution_count": 61,
   "metadata": {},
   "outputs": [],
   "source": [
    "divar_df = divar_df.drop(['location_latitude', 'location_longitude', 'location_radius'], axis=1)\n"
   ]
  },
  {
   "cell_type": "code",
   "execution_count": 63,
   "metadata": {},
   "outputs": [],
   "source": [
    "divar_df = divar_df[~divar_df['cat3_slug'].isin(['other', 'partnership'])]"
   ]
  },
  {
   "cell_type": "code",
   "execution_count": 64,
   "metadata": {},
   "outputs": [],
   "source": [
    "divar_df = divar_df[~divar_df['cat2_slug'].isin(['real-estate-services'])]\n"
   ]
  },
  {
   "cell_type": "code",
   "execution_count": 65,
   "metadata": {},
   "outputs": [
    {
     "data": {
      "text/plain": [
       "<bound method DataFrame.info of         Unnamed: 0         cat2_slug         cat3_slug      city_slug  \\\n",
       "0                0    temporary-rent             villa          karaj   \n",
       "1                1  residential-sell    apartment-sell         tehran   \n",
       "2                2  residential-rent    apartment-rent         tehran   \n",
       "3                3   commercial-rent       office-rent         tehran   \n",
       "4                4  residential-sell    apartment-sell        mashhad   \n",
       "...            ...               ...               ...            ...   \n",
       "999995      999995  residential-sell    apartment-sell     kermanshah   \n",
       "999996      999996  residential-rent    apartment-rent         tehran   \n",
       "999997      999997  residential-sell  house-villa-sell           yazd   \n",
       "999998      999998    temporary-rent   suite-apartment  bandar-anzali   \n",
       "999999      999999  residential-rent    apartment-rent         tehran   \n",
       "\n",
       "       neighborhood_slug     created_at_month    user_type rent_mode  \\\n",
       "0              mehrshahr  2024-08-01 00:00:00  مشاور املاک       NaN   \n",
       "1                gholhak  2024-05-01 00:00:00  مشاور املاک       NaN   \n",
       "2                  tohid  2024-10-01 00:00:00          NaN     مقطوع   \n",
       "3               elahiyeh  2024-06-01 00:00:00          NaN     مقطوع   \n",
       "4               emamreza  2024-05-01 00:00:00  مشاور املاک       NaN   \n",
       "...                  ...                  ...          ...       ...   \n",
       "999995               NaN  2024-07-01 00:00:00  مشاور املاک       NaN   \n",
       "999996             darya  2024-07-01 00:00:00  مشاور املاک     مقطوع   \n",
       "999997               NaN  2024-11-01 00:00:00          NaN       NaN   \n",
       "999998               NaN  2024-09-01 00:00:00          NaN       NaN   \n",
       "999999           jeyhoun  2024-08-01 00:00:00  مشاور املاک     مجانی   \n",
       "\n",
       "        rent_value    rent_type  ... density_per_floor  dir_east dir_north  \\\n",
       "0              NaN          NaN  ...              0.25     False     False   \n",
       "1              NaN          NaN  ...               0.2     False     False   \n",
       "2       26000000.0          NaN  ...              0.25     False     False   \n",
       "3       95000000.0          NaN  ...             0.125     False     False   \n",
       "4              NaN          NaN  ...          0.166667     False      True   \n",
       "...            ...          ...  ...               ...       ...       ...   \n",
       "999995         NaN          NaN  ...               0.2     False     False   \n",
       "999996  45000000.0  rent_credit  ...               0.2     False     False   \n",
       "999997         NaN          NaN  ...               0.2     False     False   \n",
       "999998         NaN          NaN  ...               0.2     False     False   \n",
       "999999         0.0  rent_credit  ...             0.125     False     False   \n",
       "\n",
       "        dir_south dir_west dir_نامشخص  ad_year  building_age  effective_age  \\\n",
       "0           False    False       True     2024          <NA>            NaN   \n",
       "1           False    False       True     2024          19.0            NaN   \n",
       "2           False    False       True     2024           2.0            2.0   \n",
       "3           False    False       True     2024           3.0            NaN   \n",
       "4           False    False      False     2024           0.0            NaN   \n",
       "...           ...      ...        ...      ...           ...            ...   \n",
       "999995      False    False       True     2024           0.0            NaN   \n",
       "999996      False    False       True     2024           0.0            NaN   \n",
       "999997      False    False       True     2024          <NA>            NaN   \n",
       "999998      False    False       True     2024          <NA>            NaN   \n",
       "999999      False    False       True     2024          21.0           11.0   \n",
       "\n",
       "        floor_material_rank  \n",
       "0                         0  \n",
       "1                         0  \n",
       "2                         0  \n",
       "3                         0  \n",
       "4                         2  \n",
       "...                     ...  \n",
       "999995                    0  \n",
       "999996                    0  \n",
       "999997                    0  \n",
       "999998                    0  \n",
       "999999                    2  \n",
       "\n",
       "[980597 rows x 51 columns]>"
      ]
     },
     "execution_count": 65,
     "metadata": {},
     "output_type": "execute_result"
    }
   ],
   "source": [
    "divar_df.shape\n",
    "divar_df.info"
   ]
  }
 ],
 "metadata": {
  "kernelspec": {
   "display_name": "Quera",
   "language": "python",
   "name": "python3"
  },
  "language_info": {
   "codemirror_mode": {
    "name": "ipython",
    "version": 3
   },
   "file_extension": ".py",
   "mimetype": "text/x-python",
   "name": "python",
   "nbconvert_exporter": "python",
   "pygments_lexer": "ipython3",
   "version": "3.12.9"
  }
 },
 "nbformat": 4,
 "nbformat_minor": 2
}
